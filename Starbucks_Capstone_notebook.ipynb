{
 "cells": [
  {
   "cell_type": "markdown",
   "metadata": {},
   "source": [
    "# Starbucks Capstone Challenge\n",
    "\n",
    "## Introduction\n",
    "\n",
    "This data set contains simulated data that mimics customer behavior on the Starbucks rewards mobile app. Once every few days, Starbucks sends out an offer to users of the mobile app. An offer can be merely an advertisement for a drink or an actual offer such as a discount or BOGO (buy one get one free). Some users might not receive any offer during certain weeks. \n",
    "\n",
    "Not all users receive the same offer, and that is the challenge to solve with this data set.\n",
    "\n",
    "Your task is to combine transaction, demographic and offer data to determine which demographic groups respond best to which offer type. This data set is a simplified version of the real Starbucks app because the underlying simulator only has one product whereas Starbucks actually sells dozens of products.\n",
    "\n",
    "Every offer has a validity period before the offer expires. As an example, a BOGO offer might be valid for only 5 days. You'll see in the data set that informational offers have a validity period even though these ads are merely providing information about a product; for example, if an informational offer has 7 days of validity, you can assume the customer is feeling the influence of the offer for 7 days after receiving the advertisement.\n",
    "\n",
    "You'll be given transactional data showing user purchases made on the app including the timestamp of purchase and the amount of money spent on a purchase. This transactional data also has a record for each offer that a user receives as well as a record for when a user actually views the offer. There are also records for when a user completes an offer. \n",
    "\n",
    "Keep in mind as well that someone using the app might make a purchase through the app without having received an offer or seen an offer.\n",
    "\n",
    "### Example\n",
    "\n",
    "To give an example, a user could receive a discount offer buy 10 dollars get 2 off on Monday. The offer is valid for 10 days from receipt. If the customer accumulates at least 10 dollars in purchases during the validity period, the customer completes the offer.\n",
    "\n",
    "However, there are a few things to watch out for in this data set. Customers do not opt into the offers that they receive; in other words, a user can receive an offer, never actually view the offer, and still complete the offer. For example, a user might receive the \"buy 10 dollars get 2 dollars off offer\", but the user never opens the offer during the 10 day validity period. The customer spends 15 dollars during those ten days. There will be an offer completion record in the data set; however, the customer was not influenced by the offer because the customer never viewed the offer.\n",
    "\n",
    "### Cleaning\n",
    "\n",
    "This makes data cleaning especially important and tricky.\n",
    "\n",
    "You'll also want to take into account that some demographic groups will make purchases even if they don't receive an offer. From a business perspective, if a customer is going to make a 10 dollar purchase without an offer anyway, you wouldn't want to send a buy 10 dollars get 2 dollars off offer. You'll want to try to assess what a certain demographic group will buy when not receiving any offers.\n",
    "\n",
    "### Final Advice\n",
    "\n",
    "Because this is a capstone project, you are free to analyze the data any way you see fit. For example, you could build a machine learning model that predicts how much someone will spend based on demographics and offer type. Or you could build a model that predicts whether or not someone will respond to an offer. Or, you don't need to build a machine learning model at all. You could develop a set of heuristics that determine what offer you should send to each customer (i.e., 75 percent of women customers who were 35 years old responded to offer A vs 40 percent from the same demographic to offer B, so send offer A)."
   ]
  },
  {
   "cell_type": "markdown",
   "metadata": {},
   "source": [
    "# Data Sets\n",
    "\n",
    "The data is contained in three files:\n",
    "\n",
    "* portfolio.json - containing offer ids and meta data about each offer (duration, type, etc.)\n",
    "* profile.json - demographic data for each customer\n",
    "* transcript.json - records for transactions, offers received, offers viewed, and offers completed\n",
    "\n",
    "Here is the schema and explanation of each variable in the files:\n",
    "\n",
    "**portfolio.json**\n",
    "* id (string) - offer id\n",
    "* offer_type (string) - type of offer ie BOGO, discount, informational\n",
    "* difficulty (int) - minimum required spend to complete an offer\n",
    "* reward (int) - reward given for completing an offer\n",
    "* duration (int) - time for offer to be open, in days\n",
    "* channels (list of strings)\n",
    "\n",
    "**profile.json**\n",
    "* age (int) - age of the customer \n",
    "* became_member_on (int) - date when customer created an app account\n",
    "* gender (str) - gender of the customer (note some entries contain 'O' for other rather than M or F)\n",
    "* id (str) - customer id\n",
    "* income (float) - customer's income\n",
    "\n",
    "**transcript.json**\n",
    "* event (str) - record description (ie transaction, offer received, offer viewed, etc.)\n",
    "* person (str) - customer id\n",
    "* time (int) - time in hours since start of test. The data begins at time t=0\n",
    "* value - (dict of strings) - either an offer id or transaction amount depending on the record\n",
    "\n",
    "**Note:** If you are using the workspace, you will need to go to the terminal and run the command `conda update pandas` before reading in the files. This is because the version of pandas in the workspace cannot read in the transcript.json file correctly, but the newest version of pandas can. You can access the termnal from the orange icon in the top left of this notebook.  \n",
    "\n",
    "You can see how to access the terminal and how the install works using the two images below.  First you need to access the terminal:\n",
    "\n",
    "<img src=\"pic1.png\"/>\n",
    "\n",
    "Then you will want to run the above command:\n",
    "\n",
    "<img src=\"pic2.png\"/>\n",
    "\n",
    "Finally, when you enter back into the notebook (use the jupyter icon again), you should be able to run the below cell without any errors."
   ]
  },
  {
   "cell_type": "code",
   "execution_count": 76,
   "metadata": {},
   "outputs": [],
   "source": [
    "import pandas as pd\n",
    "import numpy as np\n",
    "import math\n",
    "import json\n",
    "import xgboost as xgb\n",
    "%matplotlib inline\n",
    "import matplotlib.pyplot as plt\n",
    "import seaborn as sns\n",
    "\n",
    "from sklearn.model_selection import GridSearchCV\n",
    "from sklearn.ensemble import RandomForestClassifier\n",
    "from sklearn.neighbors import KNeighborsClassifier\n",
    "from sklearn.linear_model import LogisticRegression\n",
    "\n",
    "from sklearn.metrics import accuracy_score\n",
    "from sklearn.metrics import roc_auc_score"
   ]
  },
  {
   "cell_type": "markdown",
   "metadata": {},
   "source": [
    "## Introduction\n",
    "\n",
    "The data exploration and feature engineering was implemented in the notebook \"data_exploration_engineering.ipynb\"\n",
    "\n",
    "The objective of this notebook is to experiment with different classification models and determine which is the most suitable for the current data and problem\n",
    "\n",
    "Let's start by loading the training data that was created in the notebook  \"data_exploration_engineering.ipynb\""
   ]
  },
  {
   "cell_type": "code",
   "execution_count": 4,
   "metadata": {},
   "outputs": [
    {
     "data": {
      "text/plain": [
       "Index(['reward', 'difficulty', 'duration', 'std_income', 'std_age', 'bogo',\n",
       "       'discount', 'informational', 'F', 'M', 'O', 'type_of_membership',\n",
       "       'completed'],\n",
       "      dtype='object')"
      ]
     },
     "execution_count": 4,
     "metadata": {},
     "output_type": "execute_result"
    }
   ],
   "source": [
    "training_df = pd.read_csv('data/dataset.csv')\n",
    "training_df.columns"
   ]
  },
  {
   "cell_type": "markdown",
   "metadata": {},
   "source": [
    "### Let's recall the correlation of features"
   ]
  },
  {
   "cell_type": "code",
   "execution_count": 8,
   "metadata": {},
   "outputs": [
    {
     "data": {
      "text/plain": [
       "completed             1.000000\n",
       "duration              0.196006\n",
       "discount              0.150572\n",
       "difficulty            0.129000\n",
       "reward                0.125238\n",
       "type_of_membership    0.120718\n",
       "std_income            0.088242\n",
       "bogo                  0.080825\n",
       "F                     0.062272\n",
       "std_age               0.036803\n",
       "O                     0.011196\n",
       "M                    -0.064629\n",
       "informational        -0.283437\n",
       "Name: completed, dtype: float64"
      ]
     },
     "execution_count": 8,
     "metadata": {},
     "output_type": "execute_result"
    }
   ],
   "source": [
    "correlation_matrix = training_df.corr()\n",
    "correlation_matrix['completed'].sort_values(ascending=False)"
   ]
  },
  {
   "cell_type": "markdown",
   "metadata": {},
   "source": [
    "it can be seen that the features most correlated to a successful offer(completed=1.0) are (in descending order): duration,discount,difficulty,reward and type of membership ( which was derived from total_days_of_membership)"
   ]
  },
  {
   "cell_type": "code",
   "execution_count": 77,
   "metadata": {},
   "outputs": [
    {
     "data": {
      "text/plain": [
       "<matplotlib.axes._subplots.AxesSubplot at 0x1a1e677c90>"
      ]
     },
     "execution_count": 77,
     "metadata": {},
     "output_type": "execute_result"
    },
    {
     "data": {
      "image/png": "[encoded data removed]",
      "text/plain": [
       "<Figure size 1008x864 with 2 Axes>"
      ]
     },
     "metadata": {
      "needs_background": "light"
     },
     "output_type": "display_data"
    }
   ],
   "source": [
    "colormap = plt.cm.RdBu\n",
    "plt.figure(figsize=(14,12))\n",
    "plt.title('Pearson Correlation of Features', y=1.05, size=15)\n",
    "sns.heatmap(correlation_matrix,linewidths=0.1,vmax=1.0, \n",
    "            square=True, cmap=colormap, linecolor='white', annot=True)"
   ]
  },
  {
   "cell_type": "markdown",
   "metadata": {},
   "source": [
    "## Dealing with imbalanced classes\n",
    "\n",
    "\n"
   ]
  },
  {
   "cell_type": "code",
   "execution_count": 15,
   "metadata": {},
   "outputs": [
    {
     "name": "stdout",
     "output_type": "stream",
     "text": [
      "Total offers completed 16173\n",
      "Percentage offers Completed 24.319935038570847\n",
      "Total offers NO completed 50328\n"
     ]
    }
   ],
   "source": [
    "total_completed = len(training_df.loc[ (training_df['completed']==1.0)]) \n",
    "percentage_completed = (total_completed / len(training_df) ) * 100\n",
    "\n",
    "print('Total offers completed {total}'.format(total=total_completed))\n",
    "print('Percentage offers Completed {total}'.format(total=percentage_completed))\n",
    "\n",
    "print('Total offers NO completed {total}'.format(total=len(training_df.loc[ (training_df['completed']==0.0)]) ))"
   ]
  },
  {
   "cell_type": "markdown",
   "metadata": {},
   "source": [
    "It is clear that our model has a significant degree of imbalance between completed and uncompleted offers, with completed offers representing only approximately 25% of the total.\n",
    "\n",
    "Class imbalance affects accuracy negatively, so something must be done so that model performance can still be evaluated using accuracy. This indicates that we should use a strategy to manage imbalanced classes, either by some method of increasing the minority class samples or decreasing the majority class samples or by using a classification model that is little affected by the class imbalance"
   ]
  },
  {
   "cell_type": "markdown",
   "metadata": {},
   "source": [
    "### Using an up-sample minority class strategy"
   ]
  },
  {
   "cell_type": "markdown",
   "metadata": {},
   "source": [
    "By using the Up-sampling strategy we are randomly duplicating observations from the minority class, in this case successful offers (completed=1.0)  in order to reinforce its relevance on the dataset.\n",
    "\n",
    "To implement this strategy we will use the **resample** module of scikitlearn"
   ]
  },
  {
   "cell_type": "code",
   "execution_count": 31,
   "metadata": {},
   "outputs": [
    {
     "data": {
      "text/plain": [
       "1.0    50328\n",
       "0.0    50328\n",
       "Name: completed, dtype: int64"
      ]
     },
     "execution_count": 31,
     "metadata": {},
     "output_type": "execute_result"
    }
   ],
   "source": [
    "from sklearn.utils import resample\n",
    "\n",
    "df_majority = training_df[training_df.completed==0.0]\n",
    "df_minority = training_df[training_df.completed==1.0]\n",
    "\n",
    "# Upsample minority class\n",
    "df_minority_upsampled = resample(df_minority, \n",
    "                                 replace=True,       # sample with replacement\n",
    "                                 n_samples=50328,    # to match majority class\n",
    "                                 random_state=123)   # reproducible results\n",
    " \n",
    "# Combine majority class with upsampled minority class\n",
    "training_df_upsampled = pd.concat([df_majority, df_minority_upsampled])\n",
    "training_df_upsampled.completed.value_counts()"
   ]
  },
  {
   "cell_type": "code",
   "execution_count": 32,
   "metadata": {},
   "outputs": [
    {
     "data": {
      "text/plain": [
       "(100656, 13)"
      ]
     },
     "execution_count": 32,
     "metadata": {},
     "output_type": "execute_result"
    }
   ],
   "source": [
    "training_df_upsampled.shape"
   ]
  },
  {
   "cell_type": "markdown",
   "metadata": {},
   "source": [
    "## Create a training and test set\n",
    "\n",
    "Before dividing the data set into training and testing, it is important to look for a method of division that can be more effective than a purely random division. In this case I consider that it would be good that the training and test data set has an equal data proportion based on the column **type_of_membership** (which is calculated depending on the age of the client in the platform) "
   ]
  },
  {
   "cell_type": "code",
   "execution_count": 42,
   "metadata": {},
   "outputs": [
    {
     "name": "stdout",
     "output_type": "stream",
     "text": [
      "(80524, 13)\n",
      "(20132, 13)\n"
     ]
    }
   ],
   "source": [
    "from sklearn.model_selection import StratifiedShuffleSplit\n",
    "\n",
    "split = StratifiedShuffleSplit(n_splits=1 , test_size=0.2, random_state= 42 )\n",
    "\n",
    "for train_index, test_index in split.split(training_df_upsampled,training_df_upsampled['type_of_membership']):\n",
    "    strat_train_set = training_df_upsampled.iloc[train_index]\n",
    "    strat_test_set  = training_df_upsampled.iloc[test_index]\n",
    "    \n",
    "print(strat_train_set.shape)\n",
    "print(strat_test_set.shape)"
   ]
  },
  {
   "cell_type": "code",
   "execution_count": 40,
   "metadata": {},
   "outputs": [
    {
     "data": {
      "text/plain": [
       "1    0.515250\n",
       "2    0.277321\n",
       "0    0.207429\n",
       "Name: type_of_membership, dtype: float64"
      ]
     },
     "execution_count": 40,
     "metadata": {},
     "output_type": "execute_result"
    }
   ],
   "source": [
    "strat_train_set['type_of_membership'].value_counts()/len(strat_train_set)"
   ]
  },
  {
   "cell_type": "code",
   "execution_count": 41,
   "metadata": {},
   "outputs": [
    {
     "data": {
      "text/plain": [
       "1    0.515249\n",
       "2    0.277320\n",
       "0    0.207431\n",
       "Name: type_of_membership, dtype: float64"
      ]
     },
     "execution_count": 41,
     "metadata": {},
     "output_type": "execute_result"
    }
   ],
   "source": [
    "strat_test_set['type_of_membership'].value_counts()/len(strat_test_set)"
   ]
  },
  {
   "cell_type": "code",
   "execution_count": 104,
   "metadata": {},
   "outputs": [
    {
     "name": "stdout",
     "output_type": "stream",
     "text": [
      "(80524, 12)\n",
      "(80524,)\n"
     ]
    },
    {
     "data": {
      "text/plain": [
       "Index(['reward', 'difficulty', 'duration', 'std_income', 'std_age', 'bogo',\n",
       "       'discount', 'informational', 'F', 'M', 'O', 'type_of_membership'],\n",
       "      dtype='object')"
      ]
     },
     "execution_count": 104,
     "metadata": {},
     "output_type": "execute_result"
    }
   ],
   "source": [
    "X_train = strat_train_set.drop(columns=['completed'])\n",
    "y_train = strat_train_set['completed']\n",
    "print(X_train.shape)\n",
    "print(y_train.shape)\n",
    "X_train.columns"
   ]
  },
  {
   "cell_type": "code",
   "execution_count": 105,
   "metadata": {},
   "outputs": [
    {
     "name": "stdout",
     "output_type": "stream",
     "text": [
      "(20132, 12)\n",
      "(20132,)\n"
     ]
    },
    {
     "data": {
      "text/plain": [
       "Index(['reward', 'difficulty', 'duration', 'std_income', 'std_age', 'bogo',\n",
       "       'discount', 'informational', 'F', 'M', 'O', 'type_of_membership'],\n",
       "      dtype='object')"
      ]
     },
     "execution_count": 105,
     "metadata": {},
     "output_type": "execute_result"
    }
   ],
   "source": [
    "X_test = strat_test_set.drop(columns=['completed'])\n",
    "y_test = strat_test_set['completed']\n",
    "print(X_test.shape)\n",
    "print(y_test.shape)\n",
    "X_test.columns"
   ]
  },
  {
   "cell_type": "markdown",
   "metadata": {},
   "source": [
    "# Training"
   ]
  },
  {
   "cell_type": "markdown",
   "metadata": {},
   "source": [
    "### RandomForestClassifier\n"
   ]
  },
  {
   "cell_type": "code",
   "execution_count": 106,
   "metadata": {},
   "outputs": [
    {
     "name": "stdout",
     "output_type": "stream",
     "text": [
      "RandomForestClassifier Accuracy:95.01\n",
      "[0. 1.]\n"
     ]
    }
   ],
   "source": [
    "rf = RandomForestClassifier(n_estimators = 100, random_state = 42)\n",
    "\n",
    "rf.fit(X_train, y_train)\n",
    "\n",
    "# Predict on training set\n",
    "pred_y_4 = rf.predict(X_train)\n",
    "\n",
    "print( \"RandomForestClassifier Accuracy:\" + str( round( accuracy_score(pred_y_4, y_train)*100,2)) )\n",
    " \n",
    "# How many classes are our model predicting?\n",
    "print( np.unique( pred_y_4 ) )\n"
   ]
  },
  {
   "cell_type": "markdown",
   "metadata": {},
   "source": [
    "#### Using and evaluating AUROC as a metric\n",
    "\n",
    "Intuitively, AUROC represents the likelihood of one classification model to distinguishing observations from two classes. In other words, if you randomly select one observation from each class, AUROC tell the probability that the model will be able to \"rank\" them correctly"
   ]
  },
  {
   "cell_type": "code",
   "execution_count": 107,
   "metadata": {},
   "outputs": [
    {
     "name": "stdout",
     "output_type": "stream",
     "text": [
      "AUROC: 99.0\n"
     ]
    }
   ],
   "source": [
    "\n",
    "prob_y_4 = rf.predict_proba(X_train)\n",
    "prob_y_4 = [p[1] for p in prob_y_4]\n",
    "\n",
    "print( \"AUROC: \" + str(round(roc_auc_score(y_train, prob_y_4)*100,2)) )"
   ]
  },
  {
   "cell_type": "markdown",
   "metadata": {},
   "source": [
    "### LogisticRegression"
   ]
  },
  {
   "cell_type": "code",
   "execution_count": 108,
   "metadata": {},
   "outputs": [
    {
     "name": "stdout",
     "output_type": "stream",
     "text": [
      "LogisticRegression Accuracy:67.94\n",
      "[0. 1.]\n"
     ]
    }
   ],
   "source": [
    "logistic_regressor = LogisticRegression()\n",
    "\n",
    "logistic_regressor.fit(X_train, y_train)\n",
    "\n",
    "pred_y_0 = logistic_regressor.predict(X_train)\n",
    "\n",
    "print( \"LogisticRegression Accuracy:\" + str(round(accuracy_score(pred_y_0, y_train)*100,2)) )\n",
    "\n",
    "print( np.unique( pred_y_0 ) )"
   ]
  },
  {
   "cell_type": "markdown",
   "metadata": {},
   "source": [
    "#### AUROC"
   ]
  },
  {
   "cell_type": "code",
   "execution_count": 109,
   "metadata": {},
   "outputs": [
    {
     "name": "stdout",
     "output_type": "stream",
     "text": [
      "AUROC: 74.51\n"
     ]
    }
   ],
   "source": [
    "\n",
    "prob_y_4 = logistic_regressor.predict_proba(X_train)\n",
    "prob_y_4 = [p[1] for p in prob_y_4]\n",
    "\n",
    "print( \"AUROC: \" + str(round(roc_auc_score(y_train, prob_y_4)*100,2)) )"
   ]
  },
  {
   "cell_type": "markdown",
   "metadata": {},
   "source": [
    "### XGBRegressor"
   ]
  },
  {
   "cell_type": "code",
   "execution_count": 110,
   "metadata": {},
   "outputs": [
    {
     "name": "stdout",
     "output_type": "stream",
     "text": [
      "[21:07:09] WARNING: /Users/runner/miniforge3/conda-bld/xgboost_1607604592557/work/src/learner.cc:1061: Starting in XGBoost 1.3.0, the default evaluation metric used with the objective 'binary:logistic' was changed from 'error' to 'logloss'. Explicitly set eval_metric if you'd like to restore the old behavior.\n",
      "Accuracy of Logistic regression classifier on training set: 33.95%.\n"
     ]
    }
   ],
   "source": [
    "xg_reg = xgb.XGBRegressor(objective ='binary:logistic')\n",
    "xg_reg.fit(X_train,y_train)\n",
    "print(f'Accuracy of Logistic regression classifier on training set: {round(xg_reg.score(X_train, y_train)*100,2)}%.')"
   ]
  },
  {
   "cell_type": "markdown",
   "metadata": {},
   "source": [
    "### KNeighborsClassifier"
   ]
  },
  {
   "cell_type": "code",
   "execution_count": 111,
   "metadata": {},
   "outputs": [
    {
     "name": "stdout",
     "output_type": "stream",
     "text": [
      "KNeighborsClassifier Accuracy:83.22\n"
     ]
    }
   ],
   "source": [
    "knc = KNeighborsClassifier()\n",
    "\n",
    "knc.fit(X_train, y_train)\n",
    "\n",
    "# Predict on training set\n",
    "pred_y_k = knc.predict(X_train)\n",
    "\n",
    "print( \"KNeighborsClassifier Accuracy:\" + str( round( accuracy_score(pred_y_k, y_train)*100,2)) )\n",
    " "
   ]
  },
  {
   "cell_type": "code",
   "execution_count": 112,
   "metadata": {},
   "outputs": [
    {
     "name": "stdout",
     "output_type": "stream",
     "text": [
      "AUROC: 92.45\n"
     ]
    }
   ],
   "source": [
    "prob_y_4 = knc.predict_proba(X_train)\n",
    "prob_y_4 = [p[1] for p in prob_y_4]\n",
    "\n",
    "print( \"AUROC: \" + str(round(roc_auc_score(y_train, prob_y_4)*100,2)) )"
   ]
  },
  {
   "cell_type": "markdown",
   "metadata": {},
   "source": [
    "## Which algorithm should be chosen?\n",
    "\n",
    "Metrics showed that the best performing algorithm was **RandomForestClassifier**, the cause can be found in that decision trees often perform well on classification models because their hierarchical structure allows them to learn signals from both classes. And if we use Tree ensembles  like Random Forests the result will be better because the result of a Random Forests almost always outperform singular decision trees."
   ]
  },
  {
   "cell_type": "markdown",
   "metadata": {},
   "source": [
    "# Evaluating the final model on the test set"
   ]
  },
  {
   "cell_type": "code",
   "execution_count": 113,
   "metadata": {},
   "outputs": [
    {
     "name": "stdout",
     "output_type": "stream",
     "text": [
      "Model Accuracy: 84.38\n"
     ]
    }
   ],
   "source": [
    "final_predictions = rf.predict(X_test)\n",
    "\n",
    "print( \"Model Accuracy: \" + str(round( accuracy_score(final_predictions, y_test)*100,2)) )"
   ]
  },
  {
   "cell_type": "code",
   "execution_count": 116,
   "metadata": {},
   "outputs": [
    {
     "name": "stdout",
     "output_type": "stream",
     "text": [
      "AUROC: 91.07\n"
     ]
    }
   ],
   "source": [
    "prob_y_4 = rf.predict_proba(X_test)\n",
    "prob_y_4 = [p[1] for p in prob_y_4]\n",
    "\n",
    "print( \"AUROC: \" + str(round(roc_auc_score(y_test, prob_y_4)*100,2)) )"
   ]
  },
  {
   "cell_type": "markdown",
   "metadata": {},
   "source": [
    "After validating the model with the training data, it can be seen that the model is generalizing in a reasonable way. An accuracy of 85%, while not the highest, can be a good start for more complex models.\n",
    "\n",
    "An AUROC of 91.07 is also very good for this model"
   ]
  },
  {
   "cell_type": "markdown",
   "metadata": {},
   "source": [
    "## Conclusion"
   ]
  },
  {
   "cell_type": "markdown",
   "metadata": {},
   "source": [
    "Working on this capstone project was really useful to be able to put into practice the fundamental concepts of data science and face the challenges of creating a model that is useful to solve a real life problem.\n",
    "\n",
    "The most challenging part for me, and the one that took the most time, was to create a data set that would allow me to model the objectives stated in the problem statement.\n",
    "\n",
    "It was also exciting to discover that there was a class imbalance in my data set, i.e. the number of successful offers only represented 25% of the total. This made me investigate and look for alternatives since the accuracy of a classification model depends on a balance in the number of samples of each label.\n",
    "\n",
    "After so much playing with the data, I could understand that different models can be created from it, for example with a little effort you could create a regression model to predict how much a customer could spend on average after receiving an offer, another option could also be a regression model with which to predict the response time to an offer. And I'm sure that by taking more time other options can be discovered. This is really a very enriching project.\n",
    "\n",
    "#### Improvement options?\n",
    "\n",
    "I think there are opportunities for improvement, if I had more time I would try with Ensembling/Stacking algorithms. Another option would be to look at combining features to have a more simplified model."
   ]
  },
  {
   "cell_type": "code",
   "execution_count": null,
   "metadata": {},
   "outputs": [],
   "source": []
  }
 ],
 "metadata": {
  "kernelspec": {
   "display_name": "Python 3",
   "language": "python",
   "name": "python3"
  },
  "language_info": {
   "codemirror_mode": {
    "name": "ipython",
    "version": 3
   },
   "file_extension": ".py",
   "mimetype": "text/x-python",
   "name": "python",
   "nbconvert_exporter": "python",
   "pygments_lexer": "ipython3",
   "version": "3.7.7"
  }
 },
 "nbformat": 4,
 "nbformat_minor": 2
}
