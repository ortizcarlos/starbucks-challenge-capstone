{
 "cells": [
  {
   "cell_type": "markdown",
   "metadata": {},
   "source": [
    "# Starbucks Capstone Challenge - Data Exploration and Feature Engineering\n",
    "\n"
   ]
  },
  {
   "cell_type": "markdown",
   "metadata": {},
   "source": [
    "# Data Sets\n",
    "\n",
    "The data is contained in three files:\n",
    "\n",
    "* portfolio.json - containing offer ids and meta data about each offer (duration, type, etc.)\n",
    "* profile.json - demographic data for each customer\n",
    "* transcript.json - records for transactions, offers received, offers viewed, and offers completed\n",
    "\n",
    "Here is the schema and explanation of each variable in the files:\n",
    "\n",
    "**portfolio.json**\n",
    "* id (string) - offer id\n",
    "* offer_type (string) - type of offer ie BOGO, discount, informational\n",
    "* difficulty (int) - minimum required spend to complete an offer\n",
    "* reward (int) - reward given for completing an offer\n",
    "* duration (int) - time for offer to be open, in days\n",
    "* channels (list of strings)\n",
    "\n",
    "**profile.json**\n",
    "* age (int) - age of the customer \n",
    "* became_member_on (int) - date when customer created an app account\n",
    "* gender (str) - gender of the customer (note some entries contain 'O' for other rather than M or F)\n",
    "* id (str) - customer id\n",
    "* income (float) - customer's income\n",
    "\n",
    "**transcript.json**\n",
    "* event (str) - record description (ie transaction, offer received, offer viewed, etc.)\n",
    "* person (str) - customer id\n",
    "* time (int) - time in hours since start of test. The data begins at time t=0\n",
    "* value - (dict of strings) - either an offer id or transaction amount depending on the record\n"
   ]
  },
  {
   "cell_type": "code",
   "execution_count": 3,
   "metadata": {},
   "outputs": [],
   "source": [
    "import pandas as pd\n",
    "import numpy as np\n",
    "import math\n",
    "import json\n",
    "%matplotlib inline\n",
    "import matplotlib.pyplot as plt\n",
    "\n",
    "# read in the json files\n",
    "portfolio = pd.read_json('data/portfolio.json', orient='records', lines=True)\n",
    "profile = pd.read_json('data/profile.json', orient='records', lines=True)\n",
    "transcript = pd.read_json('data/transcript.json', orient='records', lines=True)"
   ]
  },
  {
   "cell_type": "markdown",
   "metadata": {},
   "source": [
    "## Exploring the Portfolio dataset"
   ]
  },
  {
   "cell_type": "code",
   "execution_count": 4,
   "metadata": {},
   "outputs": [
    {
     "data": {
      "text/html": [
       "<div>\n",
       "<style scoped>\n",
       "    .dataframe tbody tr th:only-of-type {\n",
       "        vertical-align: middle;\n",
       "    }\n",
       "\n",
       "    .dataframe tbody tr th {\n",
       "        vertical-align: top;\n",
       "    }\n",
       "\n",
       "    .dataframe thead th {\n",
       "        text-align: right;\n",
       "    }\n",
       "</style>\n",
       "<table border=\"1\" class=\"dataframe\">\n",
       "  <thead>\n",
       "    <tr style=\"text-align: right;\">\n",
       "      <th></th>\n",
       "      <th>reward</th>\n",
       "      <th>channels</th>\n",
       "      <th>difficulty</th>\n",
       "      <th>duration</th>\n",
       "      <th>offer_type</th>\n",
       "      <th>id</th>\n",
       "    </tr>\n",
       "  </thead>\n",
       "  <tbody>\n",
       "    <tr>\n",
       "      <th>0</th>\n",
       "      <td>10</td>\n",
       "      <td>[email, mobile, social]</td>\n",
       "      <td>10</td>\n",
       "      <td>7</td>\n",
       "      <td>bogo</td>\n",
       "      <td>ae264e3637204a6fb9bb56bc8210ddfd</td>\n",
       "    </tr>\n",
       "    <tr>\n",
       "      <th>1</th>\n",
       "      <td>10</td>\n",
       "      <td>[web, email, mobile, social]</td>\n",
       "      <td>10</td>\n",
       "      <td>5</td>\n",
       "      <td>bogo</td>\n",
       "      <td>4d5c57ea9a6940dd891ad53e9dbe8da0</td>\n",
       "    </tr>\n",
       "    <tr>\n",
       "      <th>2</th>\n",
       "      <td>0</td>\n",
       "      <td>[web, email, mobile]</td>\n",
       "      <td>0</td>\n",
       "      <td>4</td>\n",
       "      <td>informational</td>\n",
       "      <td>3f207df678b143eea3cee63160fa8bed</td>\n",
       "    </tr>\n",
       "    <tr>\n",
       "      <th>3</th>\n",
       "      <td>5</td>\n",
       "      <td>[web, email, mobile]</td>\n",
       "      <td>5</td>\n",
       "      <td>7</td>\n",
       "      <td>bogo</td>\n",
       "      <td>9b98b8c7a33c4b65b9aebfe6a799e6d9</td>\n",
       "    </tr>\n",
       "    <tr>\n",
       "      <th>4</th>\n",
       "      <td>5</td>\n",
       "      <td>[web, email]</td>\n",
       "      <td>20</td>\n",
       "      <td>10</td>\n",
       "      <td>discount</td>\n",
       "      <td>0b1e1539f2cc45b7b9fa7c272da2e1d7</td>\n",
       "    </tr>\n",
       "  </tbody>\n",
       "</table>\n",
       "</div>"
      ],
      "text/plain": [
       "   reward                      channels  difficulty  duration     offer_type  \\\n",
       "0      10       [email, mobile, social]          10         7           bogo   \n",
       "1      10  [web, email, mobile, social]          10         5           bogo   \n",
       "2       0          [web, email, mobile]           0         4  informational   \n",
       "3       5          [web, email, mobile]           5         7           bogo   \n",
       "4       5                  [web, email]          20        10       discount   \n",
       "\n",
       "                                 id  \n",
       "0  ae264e3637204a6fb9bb56bc8210ddfd  \n",
       "1  4d5c57ea9a6940dd891ad53e9dbe8da0  \n",
       "2  3f207df678b143eea3cee63160fa8bed  \n",
       "3  9b98b8c7a33c4b65b9aebfe6a799e6d9  \n",
       "4  0b1e1539f2cc45b7b9fa7c272da2e1d7  "
      ]
     },
     "execution_count": 4,
     "metadata": {},
     "output_type": "execute_result"
    }
   ],
   "source": [
    "portfolio.head(5)"
   ]
  },
  {
   "cell_type": "code",
   "execution_count": 5,
   "metadata": {},
   "outputs": [
    {
     "data": {
      "text/plain": [
       "(10, 6)"
      ]
     },
     "execution_count": 5,
     "metadata": {},
     "output_type": "execute_result"
    }
   ],
   "source": [
    "portfolio.shape"
   ]
  },
  {
   "cell_type": "markdown",
   "metadata": {},
   "source": [
    "*Let's check missing values*"
   ]
  },
  {
   "cell_type": "code",
   "execution_count": 7,
   "metadata": {},
   "outputs": [
    {
     "data": {
      "text/plain": [
       "reward        0\n",
       "channels      0\n",
       "difficulty    0\n",
       "duration      0\n",
       "offer_type    0\n",
       "id            0\n",
       "dtype: int64"
      ]
     },
     "execution_count": 7,
     "metadata": {},
     "output_type": "execute_result"
    }
   ],
   "source": [
    "portfolio.isna().sum()"
   ]
  },
  {
   "cell_type": "code",
   "execution_count": 8,
   "metadata": {},
   "outputs": [
    {
     "data": {
      "text/plain": [
       "<matplotlib.axes._subplots.AxesSubplot at 0x11eabbf10>"
      ]
     },
     "execution_count": 8,
     "metadata": {},
     "output_type": "execute_result"
    },
    {
     "data": {
      "image/png": "[encoded data removed]",
      "text/plain": [
       "<Figure size 432x288 with 1 Axes>"
      ]
     },
     "metadata": {
      "needs_background": "light"
     },
     "output_type": "display_data"
    }
   ],
   "source": [
    "#what is the offer_type distribution\n",
    "portfolio['offer_type'].hist()"
   ]
  },
  {
   "cell_type": "markdown",
   "metadata": {},
   "source": [
    "### Details from the dataset\n",
    "\n",
    "The unit of the columns **rewards** and **difficulty** is dollars, the name *difficulty* could be a bit confussing because it conveys the minimun value to be spent to complete the offer, and not how diificult is it to be completed.\n",
    "\n",
    "There is no missing or negative values on these columns.\n",
    "\n",
    "It is interesting that **discounts** offers are sent only by email and web, not by the mobile app."
   ]
  },
  {
   "cell_type": "markdown",
   "metadata": {},
   "source": [
    "## Exploring the profile dataset"
   ]
  },
  {
   "cell_type": "code",
   "execution_count": 9,
   "metadata": {},
   "outputs": [
    {
     "data": {
      "text/plain": [
       "(17000, 5)"
      ]
     },
     "execution_count": 9,
     "metadata": {},
     "output_type": "execute_result"
    }
   ],
   "source": [
    "profile.shape"
   ]
  },
  {
   "cell_type": "code",
   "execution_count": 10,
   "metadata": {},
   "outputs": [
    {
     "data": {
      "text/html": [
       "<div>\n",
       "<style scoped>\n",
       "    .dataframe tbody tr th:only-of-type {\n",
       "        vertical-align: middle;\n",
       "    }\n",
       "\n",
       "    .dataframe tbody tr th {\n",
       "        vertical-align: top;\n",
       "    }\n",
       "\n",
       "    .dataframe thead th {\n",
       "        text-align: right;\n",
       "    }\n",
       "</style>\n",
       "<table border=\"1\" class=\"dataframe\">\n",
       "  <thead>\n",
       "    <tr style=\"text-align: right;\">\n",
       "      <th></th>\n",
       "      <th>gender</th>\n",
       "      <th>age</th>\n",
       "      <th>id</th>\n",
       "      <th>became_member_on</th>\n",
       "      <th>income</th>\n",
       "    </tr>\n",
       "  </thead>\n",
       "  <tbody>\n",
       "    <tr>\n",
       "      <th>0</th>\n",
       "      <td>None</td>\n",
       "      <td>118</td>\n",
       "      <td>68be06ca386d4c31939f3a4f0e3dd783</td>\n",
       "      <td>20170212</td>\n",
       "      <td>NaN</td>\n",
       "    </tr>\n",
       "    <tr>\n",
       "      <th>1</th>\n",
       "      <td>F</td>\n",
       "      <td>55</td>\n",
       "      <td>0610b486422d4921ae7d2bf64640c50b</td>\n",
       "      <td>20170715</td>\n",
       "      <td>112000.0</td>\n",
       "    </tr>\n",
       "    <tr>\n",
       "      <th>2</th>\n",
       "      <td>None</td>\n",
       "      <td>118</td>\n",
       "      <td>38fe809add3b4fcf9315a9694bb96ff5</td>\n",
       "      <td>20180712</td>\n",
       "      <td>NaN</td>\n",
       "    </tr>\n",
       "    <tr>\n",
       "      <th>3</th>\n",
       "      <td>F</td>\n",
       "      <td>75</td>\n",
       "      <td>78afa995795e4d85b5d9ceeca43f5fef</td>\n",
       "      <td>20170509</td>\n",
       "      <td>100000.0</td>\n",
       "    </tr>\n",
       "    <tr>\n",
       "      <th>4</th>\n",
       "      <td>None</td>\n",
       "      <td>118</td>\n",
       "      <td>a03223e636434f42ac4c3df47e8bac43</td>\n",
       "      <td>20170804</td>\n",
       "      <td>NaN</td>\n",
       "    </tr>\n",
       "  </tbody>\n",
       "</table>\n",
       "</div>"
      ],
      "text/plain": [
       "  gender  age                                id  became_member_on    income\n",
       "0   None  118  68be06ca386d4c31939f3a4f0e3dd783          20170212       NaN\n",
       "1      F   55  0610b486422d4921ae7d2bf64640c50b          20170715  112000.0\n",
       "2   None  118  38fe809add3b4fcf9315a9694bb96ff5          20180712       NaN\n",
       "3      F   75  78afa995795e4d85b5d9ceeca43f5fef          20170509  100000.0\n",
       "4   None  118  a03223e636434f42ac4c3df47e8bac43          20170804       NaN"
      ]
     },
     "execution_count": 10,
     "metadata": {},
     "output_type": "execute_result"
    }
   ],
   "source": [
    "profile.head(5)"
   ]
  },
  {
   "cell_type": "code",
   "execution_count": 11,
   "metadata": {},
   "outputs": [
    {
     "data": {
      "text/plain": [
       "gender              2175\n",
       "age                    0\n",
       "id                     0\n",
       "became_member_on       0\n",
       "income              2175\n",
       "dtype: int64"
      ]
     },
     "execution_count": 11,
     "metadata": {},
     "output_type": "execute_result"
    }
   ],
   "source": [
    "profile.isna().sum()"
   ]
  },
  {
   "cell_type": "markdown",
   "metadata": {},
   "source": [
    "There are **2175** values missing in the gender and income columns, and it seems that age is **118** when those two column  values are missing. I will drop those records them from the dataset."
   ]
  },
  {
   "cell_type": "code",
   "execution_count": 12,
   "metadata": {},
   "outputs": [
    {
     "data": {
      "text/plain": [
       "(14825, 5)"
      ]
     },
     "execution_count": 12,
     "metadata": {},
     "output_type": "execute_result"
    }
   ],
   "source": [
    "profile.dropna(inplace=True)\n",
    "profile.shape"
   ]
  },
  {
   "cell_type": "markdown",
   "metadata": {},
   "source": [
    "Lets see now the age distribution"
   ]
  },
  {
   "cell_type": "code",
   "execution_count": 13,
   "metadata": {},
   "outputs": [
    {
     "data": {
      "text/plain": [
       "<matplotlib.axes._subplots.AxesSubplot at 0x11ea6e650>"
      ]
     },
     "execution_count": 13,
     "metadata": {},
     "output_type": "execute_result"
    },
    {
     "data": {
      "image/png": "[encoded data removed]",
      "text/plain": [
       "<Figure size 432x288 with 1 Axes>"
      ]
     },
     "metadata": {
      "needs_background": "light"
     },
     "output_type": "display_data"
    }
   ],
   "source": [
    "profile['age'].hist()"
   ]
  },
  {
   "cell_type": "code",
   "execution_count": 14,
   "metadata": {},
   "outputs": [
    {
     "data": {
      "text/plain": [
       "count    14825.000000\n",
       "mean        54.393524\n",
       "std         17.383705\n",
       "min         18.000000\n",
       "25%         42.000000\n",
       "50%         55.000000\n",
       "75%         66.000000\n",
       "max        101.000000\n",
       "Name: age, dtype: float64"
      ]
     },
     "execution_count": 14,
     "metadata": {},
     "output_type": "execute_result"
    }
   ],
   "source": [
    "profile['age'].describe()"
   ]
  },
  {
   "cell_type": "code",
   "execution_count": 15,
   "metadata": {},
   "outputs": [
    {
     "data": {
      "text/plain": [
       "3702"
      ]
     },
     "execution_count": 15,
     "metadata": {},
     "output_type": "execute_result"
    }
   ],
   "source": [
    "profile.loc[profile['age']>66].shape[0]"
   ]
  },
  {
   "cell_type": "code",
   "execution_count": 16,
   "metadata": {},
   "outputs": [
    {
     "data": {
      "text/plain": [
       "<matplotlib.axes._subplots.AxesSubplot at 0x11ea45150>"
      ]
     },
     "execution_count": 16,
     "metadata": {},
     "output_type": "execute_result"
    },
    {
     "data": {
      "image/png": "[encoded data removed]",
      "text/plain": [
       "<Figure size 432x288 with 1 Axes>"
      ]
     },
     "metadata": {
      "needs_background": "light"
     },
     "output_type": "display_data"
    }
   ],
   "source": [
    "#Lets see now gender distribution\n",
    "profile['gender'].hist()"
   ]
  },
  {
   "cell_type": "code",
   "execution_count": 17,
   "metadata": {},
   "outputs": [
    {
     "data": {
      "text/plain": [
       "M    8484\n",
       "F    6129\n",
       "O     212\n",
       "Name: gender, dtype: int64"
      ]
     },
     "execution_count": 17,
     "metadata": {},
     "output_type": "execute_result"
    }
   ],
   "source": [
    "profile['gender'].value_counts()"
   ]
  },
  {
   "cell_type": "code",
   "execution_count": 18,
   "metadata": {},
   "outputs": [
    {
     "data": {
      "text/plain": [
       "<matplotlib.axes._subplots.AxesSubplot at 0x11e9ea390>"
      ]
     },
     "execution_count": 18,
     "metadata": {},
     "output_type": "execute_result"
    },
    {
     "data": {
      "image/png": "[encoded data removed]",
      "text/plain": [
       "<Figure size 432x288 with 1 Axes>"
      ]
     },
     "metadata": {
      "needs_background": "light"
     },
     "output_type": "display_data"
    }
   ],
   "source": [
    "#Lets see now income distribution\n",
    "profile['income'].hist()"
   ]
  },
  {
   "cell_type": "code",
   "execution_count": 19,
   "metadata": {},
   "outputs": [
    {
     "data": {
      "text/plain": [
       "count     14825.000000\n",
       "mean      65404.991568\n",
       "std       21598.299410\n",
       "min       30000.000000\n",
       "25%       49000.000000\n",
       "50%       64000.000000\n",
       "75%       80000.000000\n",
       "max      120000.000000\n",
       "Name: income, dtype: float64"
      ]
     },
     "execution_count": 19,
     "metadata": {},
     "output_type": "execute_result"
    }
   ],
   "source": [
    "#Lets see now gender distribution\n",
    "profile['income'].describe()"
   ]
  },
  {
   "cell_type": "code",
   "execution_count": 721,
   "metadata": {},
   "outputs": [
    {
     "data": {
      "text/plain": [
       "Text(0.5, 1.0, 'Other')"
      ]
     },
     "execution_count": 721,
     "metadata": {},
     "output_type": "execute_result"
    },
    {
     "data": {
      "image/png": "[encoded data removed]",
      "text/plain": [
       "<Figure size 1080x1080 with 4 Axes>"
      ]
     },
     "metadata": {
      "needs_background": "light"
     },
     "output_type": "display_data"
    }
   ],
   "source": [
    "genders = profile['gender'].unique()\n",
    "fig, axs = plt.subplots(2,2,figsize=(15,15))\n",
    "colors = ['b','g','r']\n",
    "axs[0,0].hist(profile.loc[profile['gender']=='F','income'],bins=10,histtype='bar',color=colors[0])\n",
    "axs[0,0].set_title('Female')\n",
    "axs[0,1].hist(profile.loc[profile['gender']=='M','income'],bins=10,histtype='bar',color=colors[1])\n",
    "axs[0,1].set_title('Male')\n",
    "axs[1,0].hist(profile.loc[profile['gender']=='O','income'],bins=10,histtype='bar',color=colors[2])\n",
    "axs[1,0].set_title('Other')"
   ]
  },
  {
   "cell_type": "code",
   "execution_count": 20,
   "metadata": {},
   "outputs": [
    {
     "name": "stdout",
     "output_type": "stream",
     "text": [
      "F Mean income is: 71306.41213901126\n",
      "M Mean income is: 61194.60160301744\n",
      "O Mean income is: 63287.735849056604\n"
     ]
    }
   ],
   "source": [
    "genders = profile['gender'].unique()\n",
    "for gender in genders:\n",
    "    u = profile.loc[profile['gender']==gender,'income'].mean()\n",
    "    print('{gender} Mean income is: {mean}'.format( gender=gender,mean=u))"
   ]
  },
  {
   "cell_type": "markdown",
   "metadata": {},
   "source": [
    "Empirically we could think that income could be a relevant feature for the classification model we are trying to create, however a later formal analysis of the correlation of features of the model will give us the answer. For now it would be a good idea to create a new column where to have the income value scaled."
   ]
  },
  {
   "cell_type": "markdown",
   "metadata": {},
   "source": [
    "It is important to analyze the distribution of the **became_member_on** column as this can be an important feature within the model that defines a client and could help predict whether the offer will be completed or not. Before that it is necessary to process this column in order to use a more appropiate format."
   ]
  },
  {
   "cell_type": "code",
   "execution_count": 22,
   "metadata": {},
   "outputs": [
    {
     "data": {
      "text/plain": [
       "<matplotlib.axes._subplots.AxesSubplot at 0x11e910990>"
      ]
     },
     "execution_count": 22,
     "metadata": {},
     "output_type": "execute_result"
    },
    {
     "data": {
      "image/png": "[encoded data removed]",
      "text/plain": [
       "<Figure size 432x288 with 1 Axes>"
      ]
     },
     "metadata": {
      "needs_background": "light"
     },
     "output_type": "display_data"
    }
   ],
   "source": [
    "import datetime\n",
    "from datetime import datetime as dt\n",
    "\n",
    "profile['member_since'] = pd.to_datetime(profile['became_member_on'], format = '%Y%m%d')\n",
    "profile['total_days_of_membership'] = (dt.today().date() - profile['member_since'].dt.date).dt.days\n",
    "profile['total_days_of_membership'].hist() "
   ]
  },
  {
   "cell_type": "code",
   "execution_count": 23,
   "metadata": {},
   "outputs": [
    {
     "data": {
      "text/plain": [
       "count    14825.000000\n",
       "mean      1414.478988\n",
       "std        419.205158\n",
       "min        892.000000\n",
       "25%       1100.000000\n",
       "50%       1250.000000\n",
       "75%       1689.000000\n",
       "max       2715.000000\n",
       "Name: total_days_of_membership, dtype: float64"
      ]
     },
     "execution_count": 23,
     "metadata": {},
     "output_type": "execute_result"
    }
   ],
   "source": [
    "profile['total_days_of_membership'].describe()"
   ]
  },
  {
   "cell_type": "markdown",
   "metadata": {},
   "source": [
    "According to the **total_days_of_membership** distribution, we can cluster this column in three categories \n",
    "   \n",
    "    1     - 1093 days   :  0\n",
    "    1094  - 1683 days   :  1\n",
    "    > 1683              :  2"
   ]
  },
  {
   "cell_type": "markdown",
   "metadata": {},
   "source": [
    "## Details from the dataset\n",
    "\n",
    "The majority of clients are men (8484), followed by women (6129) and only 212 clients define their gender as other.\n",
    "\n",
    "The average age of the clients is 54 years old. There are **3702** clients over 66 years old, which is **25%**.\n",
    "\n",
    "The median income is 65400 dollars\n",
    "\n",
    "Women's average income (71,306) is higher than men's (61,195) and than the average in the data set (65405)\n",
    "\n",
    "The income range is from 30,000 to 120,000 \n",
    "\n",
    "The average days of membership is 1408 days\n",
    "\n"
   ]
  },
  {
   "cell_type": "code",
   "execution_count": 24,
   "metadata": {},
   "outputs": [
    {
     "data": {
      "text/plain": [
       "(306534, 4)"
      ]
     },
     "execution_count": 24,
     "metadata": {},
     "output_type": "execute_result"
    }
   ],
   "source": [
    "transcript.shape"
   ]
  },
  {
   "cell_type": "code",
   "execution_count": 25,
   "metadata": {},
   "outputs": [
    {
     "data": {
      "text/plain": [
       "person    0\n",
       "event     0\n",
       "value     0\n",
       "time      0\n",
       "dtype: int64"
      ]
     },
     "execution_count": 25,
     "metadata": {},
     "output_type": "execute_result"
    }
   ],
   "source": [
    "## Lers check for missing values\n",
    "transcript.isna().sum()"
   ]
  },
  {
   "cell_type": "markdown",
   "metadata": {},
   "source": [
    "There is no missing values is the transcript dataset"
   ]
  },
  {
   "cell_type": "code",
   "execution_count": 26,
   "metadata": {},
   "outputs": [
    {
     "data": {
      "text/html": [
       "<div>\n",
       "<style scoped>\n",
       "    .dataframe tbody tr th:only-of-type {\n",
       "        vertical-align: middle;\n",
       "    }\n",
       "\n",
       "    .dataframe tbody tr th {\n",
       "        vertical-align: top;\n",
       "    }\n",
       "\n",
       "    .dataframe thead th {\n",
       "        text-align: right;\n",
       "    }\n",
       "</style>\n",
       "<table border=\"1\" class=\"dataframe\">\n",
       "  <thead>\n",
       "    <tr style=\"text-align: right;\">\n",
       "      <th></th>\n",
       "      <th>person</th>\n",
       "      <th>event</th>\n",
       "      <th>value</th>\n",
       "      <th>time</th>\n",
       "    </tr>\n",
       "  </thead>\n",
       "  <tbody>\n",
       "    <tr>\n",
       "      <th>0</th>\n",
       "      <td>78afa995795e4d85b5d9ceeca43f5fef</td>\n",
       "      <td>offer received</td>\n",
       "      <td>{'offer id': '9b98b8c7a33c4b65b9aebfe6a799e6d9'}</td>\n",
       "      <td>0</td>\n",
       "    </tr>\n",
       "    <tr>\n",
       "      <th>1</th>\n",
       "      <td>a03223e636434f42ac4c3df47e8bac43</td>\n",
       "      <td>offer received</td>\n",
       "      <td>{'offer id': '0b1e1539f2cc45b7b9fa7c272da2e1d7'}</td>\n",
       "      <td>0</td>\n",
       "    </tr>\n",
       "    <tr>\n",
       "      <th>2</th>\n",
       "      <td>e2127556f4f64592b11af22de27a7932</td>\n",
       "      <td>offer received</td>\n",
       "      <td>{'offer id': '2906b810c7d4411798c6938adc9daaa5'}</td>\n",
       "      <td>0</td>\n",
       "    </tr>\n",
       "    <tr>\n",
       "      <th>3</th>\n",
       "      <td>8ec6ce2a7e7949b1bf142def7d0e0586</td>\n",
       "      <td>offer received</td>\n",
       "      <td>{'offer id': 'fafdcd668e3743c1bb461111dcafc2a4'}</td>\n",
       "      <td>0</td>\n",
       "    </tr>\n",
       "    <tr>\n",
       "      <th>4</th>\n",
       "      <td>68617ca6246f4fbc85e91a2a49552598</td>\n",
       "      <td>offer received</td>\n",
       "      <td>{'offer id': '4d5c57ea9a6940dd891ad53e9dbe8da0'}</td>\n",
       "      <td>0</td>\n",
       "    </tr>\n",
       "  </tbody>\n",
       "</table>\n",
       "</div>"
      ],
      "text/plain": [
       "                             person           event  \\\n",
       "0  78afa995795e4d85b5d9ceeca43f5fef  offer received   \n",
       "1  a03223e636434f42ac4c3df47e8bac43  offer received   \n",
       "2  e2127556f4f64592b11af22de27a7932  offer received   \n",
       "3  8ec6ce2a7e7949b1bf142def7d0e0586  offer received   \n",
       "4  68617ca6246f4fbc85e91a2a49552598  offer received   \n",
       "\n",
       "                                              value  time  \n",
       "0  {'offer id': '9b98b8c7a33c4b65b9aebfe6a799e6d9'}     0  \n",
       "1  {'offer id': '0b1e1539f2cc45b7b9fa7c272da2e1d7'}     0  \n",
       "2  {'offer id': '2906b810c7d4411798c6938adc9daaa5'}     0  \n",
       "3  {'offer id': 'fafdcd668e3743c1bb461111dcafc2a4'}     0  \n",
       "4  {'offer id': '4d5c57ea9a6940dd891ad53e9dbe8da0'}     0  "
      ]
     },
     "execution_count": 26,
     "metadata": {},
     "output_type": "execute_result"
    }
   ],
   "source": [
    "transcript.head(5)"
   ]
  },
  {
   "cell_type": "markdown",
   "metadata": {},
   "source": [
    "The **value** columns is a dictionary, we need to know what keys are used."
   ]
  },
  {
   "cell_type": "code",
   "execution_count": 27,
   "metadata": {},
   "outputs": [
    {
     "name": "stdout",
     "output_type": "stream",
     "text": [
      "offer received  :  dict_keys(['offer id'])\n",
      "offer viewed  :  dict_keys(['offer id'])\n",
      "transaction  :  dict_keys(['amount'])\n",
      "offer completed  :  dict_keys(['offer_id', 'reward'])\n"
     ]
    }
   ],
   "source": [
    "#lets see what are the keys in transcript.value\n",
    "\n",
    "for event_name in transcript['event'].unique():\n",
    "    subset = transcript[transcript['event']==event_name]\n",
    "    if (type (subset.iloc[0,2]) is dict ):\n",
    "       print(\"{}  :  {}\".format(event_name,subset.iloc[0,2].keys()))"
   ]
  },
  {
   "cell_type": "markdown",
   "metadata": {},
   "source": [
    "And also see the distribution of events"
   ]
  },
  {
   "cell_type": "code",
   "execution_count": 28,
   "metadata": {},
   "outputs": [
    {
     "data": {
      "text/plain": [
       "array(['offer received', 'offer viewed', 'transaction', 'offer completed'],\n",
       "      dtype=object)"
      ]
     },
     "execution_count": 28,
     "metadata": {},
     "output_type": "execute_result"
    }
   ],
   "source": [
    "transcript['event'].unique()"
   ]
  },
  {
   "cell_type": "code",
   "execution_count": 29,
   "metadata": {},
   "outputs": [
    {
     "data": {
      "text/plain": [
       "<matplotlib.axes._subplots.AxesSubplot at 0x11cf89cd0>"
      ]
     },
     "execution_count": 29,
     "metadata": {},
     "output_type": "execute_result"
    },
    {
     "data": {
      "image/png": "[encoded data removed]",
      "text/plain": [
       "<Figure size 432x288 with 1 Axes>"
      ]
     },
     "metadata": {
      "needs_background": "light"
     },
     "output_type": "display_data"
    }
   ],
   "source": [
    "transcript['event'].hist()"
   ]
  },
  {
   "cell_type": "markdown",
   "metadata": {},
   "source": [
    "In order to prepare the training dataset, a column will be added  to the transcript dataframe for each key that is in the Value column, we already know that they are (amount, reward, offer_id and offer id ) "
   ]
  },
  {
   "cell_type": "code",
   "execution_count": 30,
   "metadata": {},
   "outputs": [],
   "source": [
    "def determine_offerid_value(d):\n",
    "    return d['offer_id'] if (d.get('offer_id') is not None) else d.get('offer id')"
   ]
  },
  {
   "cell_type": "code",
   "execution_count": 31,
   "metadata": {},
   "outputs": [],
   "source": [
    "transcript.loc[:,'offer_id'] = transcript['value'].apply(lambda d: determine_offerid_value(d) if (type(d) is dict) else ' ')"
   ]
  },
  {
   "cell_type": "code",
   "execution_count": 32,
   "metadata": {},
   "outputs": [],
   "source": [
    "transcript.loc[:,'amount'] = transcript[transcript['event']=='transaction']['value'].apply(lambda d: d['amount'])"
   ]
  },
  {
   "cell_type": "code",
   "execution_count": 33,
   "metadata": {},
   "outputs": [],
   "source": [
    "transcript.loc[:,'reward'] = transcript[transcript['event']=='offer completed']['value'].apply(lambda d: d['reward'])"
   ]
  },
  {
   "cell_type": "markdown",
   "metadata": {},
   "source": [
    "Let's see how the data looks for a specific client, we are going to eliminate the transaction type events, since we are interested in knowing the offers that were seen and then completed or not"
   ]
  },
  {
   "cell_type": "code",
   "execution_count": 34,
   "metadata": {},
   "outputs": [
    {
     "data": {
      "text/html": [
       "<div>\n",
       "<style scoped>\n",
       "    .dataframe tbody tr th:only-of-type {\n",
       "        vertical-align: middle;\n",
       "    }\n",
       "\n",
       "    .dataframe tbody tr th {\n",
       "        vertical-align: top;\n",
       "    }\n",
       "\n",
       "    .dataframe thead th {\n",
       "        text-align: right;\n",
       "    }\n",
       "</style>\n",
       "<table border=\"1\" class=\"dataframe\">\n",
       "  <thead>\n",
       "    <tr style=\"text-align: right;\">\n",
       "      <th></th>\n",
       "      <th>person</th>\n",
       "      <th>event</th>\n",
       "      <th>offer_id</th>\n",
       "      <th>time</th>\n",
       "    </tr>\n",
       "  </thead>\n",
       "  <tbody>\n",
       "    <tr>\n",
       "      <th>0</th>\n",
       "      <td>78afa995795e4d85b5d9ceeca43f5fef</td>\n",
       "      <td>offer received</td>\n",
       "      <td>9b98b8c7a33c4b65b9aebfe6a799e6d9</td>\n",
       "      <td>0</td>\n",
       "    </tr>\n",
       "    <tr>\n",
       "      <th>15561</th>\n",
       "      <td>78afa995795e4d85b5d9ceeca43f5fef</td>\n",
       "      <td>offer viewed</td>\n",
       "      <td>9b98b8c7a33c4b65b9aebfe6a799e6d9</td>\n",
       "      <td>6</td>\n",
       "    </tr>\n",
       "    <tr>\n",
       "      <th>47583</th>\n",
       "      <td>78afa995795e4d85b5d9ceeca43f5fef</td>\n",
       "      <td>offer completed</td>\n",
       "      <td>9b98b8c7a33c4b65b9aebfe6a799e6d9</td>\n",
       "      <td>132</td>\n",
       "    </tr>\n",
       "    <tr>\n",
       "      <th>53176</th>\n",
       "      <td>78afa995795e4d85b5d9ceeca43f5fef</td>\n",
       "      <td>offer received</td>\n",
       "      <td>5a8bc65990b245e5a138643cd4eb9837</td>\n",
       "      <td>168</td>\n",
       "    </tr>\n",
       "    <tr>\n",
       "      <th>85291</th>\n",
       "      <td>78afa995795e4d85b5d9ceeca43f5fef</td>\n",
       "      <td>offer viewed</td>\n",
       "      <td>5a8bc65990b245e5a138643cd4eb9837</td>\n",
       "      <td>216</td>\n",
       "    </tr>\n",
       "    <tr>\n",
       "      <th>150598</th>\n",
       "      <td>78afa995795e4d85b5d9ceeca43f5fef</td>\n",
       "      <td>offer received</td>\n",
       "      <td>ae264e3637204a6fb9bb56bc8210ddfd</td>\n",
       "      <td>408</td>\n",
       "    </tr>\n",
       "    <tr>\n",
       "      <th>163375</th>\n",
       "      <td>78afa995795e4d85b5d9ceeca43f5fef</td>\n",
       "      <td>offer viewed</td>\n",
       "      <td>ae264e3637204a6fb9bb56bc8210ddfd</td>\n",
       "      <td>408</td>\n",
       "    </tr>\n",
       "    <tr>\n",
       "      <th>201572</th>\n",
       "      <td>78afa995795e4d85b5d9ceeca43f5fef</td>\n",
       "      <td>offer received</td>\n",
       "      <td>f19421c1d4aa40978ebb69ca19b0e20d</td>\n",
       "      <td>504</td>\n",
       "    </tr>\n",
       "    <tr>\n",
       "      <th>218394</th>\n",
       "      <td>78afa995795e4d85b5d9ceeca43f5fef</td>\n",
       "      <td>offer completed</td>\n",
       "      <td>ae264e3637204a6fb9bb56bc8210ddfd</td>\n",
       "      <td>510</td>\n",
       "    </tr>\n",
       "    <tr>\n",
       "      <th>218395</th>\n",
       "      <td>78afa995795e4d85b5d9ceeca43f5fef</td>\n",
       "      <td>offer completed</td>\n",
       "      <td>f19421c1d4aa40978ebb69ca19b0e20d</td>\n",
       "      <td>510</td>\n",
       "    </tr>\n",
       "    <tr>\n",
       "      <th>262138</th>\n",
       "      <td>78afa995795e4d85b5d9ceeca43f5fef</td>\n",
       "      <td>offer viewed</td>\n",
       "      <td>f19421c1d4aa40978ebb69ca19b0e20d</td>\n",
       "      <td>582</td>\n",
       "    </tr>\n",
       "  </tbody>\n",
       "</table>\n",
       "</div>"
      ],
      "text/plain": [
       "                                  person            event  \\\n",
       "0       78afa995795e4d85b5d9ceeca43f5fef   offer received   \n",
       "15561   78afa995795e4d85b5d9ceeca43f5fef     offer viewed   \n",
       "47583   78afa995795e4d85b5d9ceeca43f5fef  offer completed   \n",
       "53176   78afa995795e4d85b5d9ceeca43f5fef   offer received   \n",
       "85291   78afa995795e4d85b5d9ceeca43f5fef     offer viewed   \n",
       "150598  78afa995795e4d85b5d9ceeca43f5fef   offer received   \n",
       "163375  78afa995795e4d85b5d9ceeca43f5fef     offer viewed   \n",
       "201572  78afa995795e4d85b5d9ceeca43f5fef   offer received   \n",
       "218394  78afa995795e4d85b5d9ceeca43f5fef  offer completed   \n",
       "218395  78afa995795e4d85b5d9ceeca43f5fef  offer completed   \n",
       "262138  78afa995795e4d85b5d9ceeca43f5fef     offer viewed   \n",
       "\n",
       "                                offer_id  time  \n",
       "0       9b98b8c7a33c4b65b9aebfe6a799e6d9     0  \n",
       "15561   9b98b8c7a33c4b65b9aebfe6a799e6d9     6  \n",
       "47583   9b98b8c7a33c4b65b9aebfe6a799e6d9   132  \n",
       "53176   5a8bc65990b245e5a138643cd4eb9837   168  \n",
       "85291   5a8bc65990b245e5a138643cd4eb9837   216  \n",
       "150598  ae264e3637204a6fb9bb56bc8210ddfd   408  \n",
       "163375  ae264e3637204a6fb9bb56bc8210ddfd   408  \n",
       "201572  f19421c1d4aa40978ebb69ca19b0e20d   504  \n",
       "218394  ae264e3637204a6fb9bb56bc8210ddfd   510  \n",
       "218395  f19421c1d4aa40978ebb69ca19b0e20d   510  \n",
       "262138  f19421c1d4aa40978ebb69ca19b0e20d   582  "
      ]
     },
     "execution_count": 34,
     "metadata": {},
     "output_type": "execute_result"
    }
   ],
   "source": [
    "transcript.loc[ (transcript['person'] == '78afa995795e4d85b5d9ceeca43f5fef') & (transcript['event']!='transaction'), ['person','event','offer_id','time'] ]"
   ]
  },
  {
   "cell_type": "markdown",
   "metadata": {},
   "source": [
    "## Feature engineering to do\n",
    "\n",
    "\n",
    "One of the main objectives of this project is to create a data model based on demographic information composed of relevant information from the profile, portfolio and transcript datasets, which is the basis for a classification model with which to predict whether an offering will be successfully completed or not.\n",
    "\n",
    "The following are the steps to follow:\n",
    "\n",
    "    Merge training dataset with profile\n",
    "    Merge training dataset with portfolio\n",
    "    scale income\n",
    "    scale age\n",
    "    one hot encode offer_type\n",
    "    one hot encode gender\n",
    "    create categories for total_days_of_membership    \n",
    "    remove person id\n",
    "    remove offer id\n"
   ]
  },
  {
   "cell_type": "code",
   "execution_count": 35,
   "metadata": {},
   "outputs": [],
   "source": [
    "training_df = transcript.copy()"
   ]
  },
  {
   "cell_type": "code",
   "execution_count": 36,
   "metadata": {},
   "outputs": [
    {
     "data": {
      "text/html": [
       "<div>\n",
       "<style scoped>\n",
       "    .dataframe tbody tr th:only-of-type {\n",
       "        vertical-align: middle;\n",
       "    }\n",
       "\n",
       "    .dataframe tbody tr th {\n",
       "        vertical-align: top;\n",
       "    }\n",
       "\n",
       "    .dataframe thead th {\n",
       "        text-align: right;\n",
       "    }\n",
       "</style>\n",
       "<table border=\"1\" class=\"dataframe\">\n",
       "  <thead>\n",
       "    <tr style=\"text-align: right;\">\n",
       "      <th></th>\n",
       "      <th>gender</th>\n",
       "      <th>age</th>\n",
       "      <th>became_member_on</th>\n",
       "      <th>income</th>\n",
       "      <th>member_since</th>\n",
       "      <th>total_days_of_membership</th>\n",
       "    </tr>\n",
       "    <tr>\n",
       "      <th>person</th>\n",
       "      <th></th>\n",
       "      <th></th>\n",
       "      <th></th>\n",
       "      <th></th>\n",
       "      <th></th>\n",
       "      <th></th>\n",
       "    </tr>\n",
       "  </thead>\n",
       "  <tbody>\n",
       "    <tr>\n",
       "      <th>0610b486422d4921ae7d2bf64640c50b</th>\n",
       "      <td>F</td>\n",
       "      <td>55</td>\n",
       "      <td>20170715</td>\n",
       "      <td>112000.0</td>\n",
       "      <td>2017-07-15</td>\n",
       "      <td>1268</td>\n",
       "    </tr>\n",
       "    <tr>\n",
       "      <th>78afa995795e4d85b5d9ceeca43f5fef</th>\n",
       "      <td>F</td>\n",
       "      <td>75</td>\n",
       "      <td>20170509</td>\n",
       "      <td>100000.0</td>\n",
       "      <td>2017-05-09</td>\n",
       "      <td>1335</td>\n",
       "    </tr>\n",
       "    <tr>\n",
       "      <th>e2127556f4f64592b11af22de27a7932</th>\n",
       "      <td>M</td>\n",
       "      <td>68</td>\n",
       "      <td>20180426</td>\n",
       "      <td>70000.0</td>\n",
       "      <td>2018-04-26</td>\n",
       "      <td>983</td>\n",
       "    </tr>\n",
       "    <tr>\n",
       "      <th>389bc3fa690240e798340f5a15918d5c</th>\n",
       "      <td>M</td>\n",
       "      <td>65</td>\n",
       "      <td>20180209</td>\n",
       "      <td>53000.0</td>\n",
       "      <td>2018-02-09</td>\n",
       "      <td>1059</td>\n",
       "    </tr>\n",
       "    <tr>\n",
       "      <th>2eeac8d8feae4a8cad5a6af0499a211d</th>\n",
       "      <td>M</td>\n",
       "      <td>58</td>\n",
       "      <td>20171111</td>\n",
       "      <td>51000.0</td>\n",
       "      <td>2017-11-11</td>\n",
       "      <td>1149</td>\n",
       "    </tr>\n",
       "    <tr>\n",
       "      <th>...</th>\n",
       "      <td>...</td>\n",
       "      <td>...</td>\n",
       "      <td>...</td>\n",
       "      <td>...</td>\n",
       "      <td>...</td>\n",
       "      <td>...</td>\n",
       "    </tr>\n",
       "    <tr>\n",
       "      <th>6d5f3a774f3d4714ab0c092238f3a1d7</th>\n",
       "      <td>F</td>\n",
       "      <td>45</td>\n",
       "      <td>20180604</td>\n",
       "      <td>54000.0</td>\n",
       "      <td>2018-06-04</td>\n",
       "      <td>944</td>\n",
       "    </tr>\n",
       "    <tr>\n",
       "      <th>2cb4f97358b841b9a9773a7aa05a9d77</th>\n",
       "      <td>M</td>\n",
       "      <td>61</td>\n",
       "      <td>20180713</td>\n",
       "      <td>72000.0</td>\n",
       "      <td>2018-07-13</td>\n",
       "      <td>905</td>\n",
       "    </tr>\n",
       "    <tr>\n",
       "      <th>01d26f638c274aa0b965d24cefe3183f</th>\n",
       "      <td>M</td>\n",
       "      <td>49</td>\n",
       "      <td>20170126</td>\n",
       "      <td>73000.0</td>\n",
       "      <td>2017-01-26</td>\n",
       "      <td>1438</td>\n",
       "    </tr>\n",
       "    <tr>\n",
       "      <th>9dc1421481194dcd9400aec7c9ae6366</th>\n",
       "      <td>F</td>\n",
       "      <td>83</td>\n",
       "      <td>20160307</td>\n",
       "      <td>50000.0</td>\n",
       "      <td>2016-03-07</td>\n",
       "      <td>1763</td>\n",
       "    </tr>\n",
       "    <tr>\n",
       "      <th>e4052622e5ba45a8b96b59aba68cf068</th>\n",
       "      <td>F</td>\n",
       "      <td>62</td>\n",
       "      <td>20170722</td>\n",
       "      <td>82000.0</td>\n",
       "      <td>2017-07-22</td>\n",
       "      <td>1261</td>\n",
       "    </tr>\n",
       "  </tbody>\n",
       "</table>\n",
       "<p>14825 rows × 6 columns</p>\n",
       "</div>"
      ],
      "text/plain": [
       "                                 gender  age  became_member_on    income  \\\n",
       "person                                                                     \n",
       "0610b486422d4921ae7d2bf64640c50b      F   55          20170715  112000.0   \n",
       "78afa995795e4d85b5d9ceeca43f5fef      F   75          20170509  100000.0   \n",
       "e2127556f4f64592b11af22de27a7932      M   68          20180426   70000.0   \n",
       "389bc3fa690240e798340f5a15918d5c      M   65          20180209   53000.0   \n",
       "2eeac8d8feae4a8cad5a6af0499a211d      M   58          20171111   51000.0   \n",
       "...                                 ...  ...               ...       ...   \n",
       "6d5f3a774f3d4714ab0c092238f3a1d7      F   45          20180604   54000.0   \n",
       "2cb4f97358b841b9a9773a7aa05a9d77      M   61          20180713   72000.0   \n",
       "01d26f638c274aa0b965d24cefe3183f      M   49          20170126   73000.0   \n",
       "9dc1421481194dcd9400aec7c9ae6366      F   83          20160307   50000.0   \n",
       "e4052622e5ba45a8b96b59aba68cf068      F   62          20170722   82000.0   \n",
       "\n",
       "                                 member_since  total_days_of_membership  \n",
       "person                                                                   \n",
       "0610b486422d4921ae7d2bf64640c50b   2017-07-15                      1268  \n",
       "78afa995795e4d85b5d9ceeca43f5fef   2017-05-09                      1335  \n",
       "e2127556f4f64592b11af22de27a7932   2018-04-26                       983  \n",
       "389bc3fa690240e798340f5a15918d5c   2018-02-09                      1059  \n",
       "2eeac8d8feae4a8cad5a6af0499a211d   2017-11-11                      1149  \n",
       "...                                       ...                       ...  \n",
       "6d5f3a774f3d4714ab0c092238f3a1d7   2018-06-04                       944  \n",
       "2cb4f97358b841b9a9773a7aa05a9d77   2018-07-13                       905  \n",
       "01d26f638c274aa0b965d24cefe3183f   2017-01-26                      1438  \n",
       "9dc1421481194dcd9400aec7c9ae6366   2016-03-07                      1763  \n",
       "e4052622e5ba45a8b96b59aba68cf068   2017-07-22                      1261  \n",
       "\n",
       "[14825 rows x 6 columns]"
      ]
     },
     "execution_count": 36,
     "metadata": {},
     "output_type": "execute_result"
    }
   ],
   "source": [
    "profile =  profile.rename(columns={'id':'person'})\n",
    "profile.set_index(['person'])"
   ]
  },
  {
   "cell_type": "markdown",
   "metadata": {},
   "source": [
    "As our model is based on working with successful offers, i.e. those received, viewed and completed, we will not take into account transaction-type events"
   ]
  },
  {
   "cell_type": "code",
   "execution_count": 37,
   "metadata": {},
   "outputs": [],
   "source": [
    "training_df   =  pd.merge( training_df , profile[['person','gender', 'age','total_days_of_membership','income']], \n",
    "                                                          on='person', how='right')\n",
    "training_df = training_df.loc[training_df['event'].isin(['offer viewed','offer completed','offer received'])]\n"
   ]
  },
  {
   "cell_type": "code",
   "execution_count": 38,
   "metadata": {},
   "outputs": [],
   "source": [
    "portfolio =  portfolio.rename(columns={'id':'offer_id'})\n",
    "portfolio.set_index(['offer_id'])\n",
    "\n",
    "training_df   =  pd.merge( training_df , portfolio[['offer_id','reward', 'difficulty','duration', 'offer_type']], \n",
    "                                                          on='offer_id', how='left')\n",
    "\n"
   ]
  },
  {
   "cell_type": "markdown",
   "metadata": {},
   "source": [
    "### Ordinal representation or One Hot Encoding?\n",
    "\n",
    "For the features **gender** and **offer type** one might consider converting them into an ordinal representation such as 1 = BOGO, 2 = INFORMATIONAL and 3 = DISCOUNT, however this might cause the model to learn that INFORMATIONAL and DISCOUNT are more similar than BOGO and DISCOUNT, since in reality there is no ordinal relationship between them. The same for the GENDER feature. Therefore it is better to make a One Hot Encoder representation for the features gender and offer_type."
   ]
  },
  {
   "cell_type": "code",
   "execution_count": 39,
   "metadata": {},
   "outputs": [
    {
     "data": {
      "text/html": [
       "<div>\n",
       "<style scoped>\n",
       "    .dataframe tbody tr th:only-of-type {\n",
       "        vertical-align: middle;\n",
       "    }\n",
       "\n",
       "    .dataframe tbody tr th {\n",
       "        vertical-align: top;\n",
       "    }\n",
       "\n",
       "    .dataframe thead th {\n",
       "        text-align: right;\n",
       "    }\n",
       "</style>\n",
       "<table border=\"1\" class=\"dataframe\">\n",
       "  <thead>\n",
       "    <tr style=\"text-align: right;\">\n",
       "      <th></th>\n",
       "      <th>person</th>\n",
       "      <th>event</th>\n",
       "      <th>value</th>\n",
       "      <th>time</th>\n",
       "      <th>offer_id</th>\n",
       "      <th>amount</th>\n",
       "      <th>reward_x</th>\n",
       "      <th>gender</th>\n",
       "      <th>age</th>\n",
       "      <th>total_days_of_membership</th>\n",
       "      <th>...</th>\n",
       "      <th>duration</th>\n",
       "      <th>offer_type</th>\n",
       "      <th>std_income</th>\n",
       "      <th>std_age</th>\n",
       "      <th>bogo</th>\n",
       "      <th>discount</th>\n",
       "      <th>informational</th>\n",
       "      <th>F</th>\n",
       "      <th>M</th>\n",
       "      <th>O</th>\n",
       "    </tr>\n",
       "  </thead>\n",
       "  <tbody>\n",
       "    <tr>\n",
       "      <th>0</th>\n",
       "      <td>78afa995795e4d85b5d9ceeca43f5fef</td>\n",
       "      <td>offer received</td>\n",
       "      <td>{'offer id': '9b98b8c7a33c4b65b9aebfe6a799e6d9'}</td>\n",
       "      <td>0</td>\n",
       "      <td>9b98b8c7a33c4b65b9aebfe6a799e6d9</td>\n",
       "      <td>NaN</td>\n",
       "      <td>NaN</td>\n",
       "      <td>F</td>\n",
       "      <td>75</td>\n",
       "      <td>1335</td>\n",
       "      <td>...</td>\n",
       "      <td>7</td>\n",
       "      <td>bogo</td>\n",
       "      <td>0.777778</td>\n",
       "      <td>0.686747</td>\n",
       "      <td>1.0</td>\n",
       "      <td>0.0</td>\n",
       "      <td>0.0</td>\n",
       "      <td>1.0</td>\n",
       "      <td>0.0</td>\n",
       "      <td>0.0</td>\n",
       "    </tr>\n",
       "    <tr>\n",
       "      <th>1</th>\n",
       "      <td>78afa995795e4d85b5d9ceeca43f5fef</td>\n",
       "      <td>offer viewed</td>\n",
       "      <td>{'offer id': '9b98b8c7a33c4b65b9aebfe6a799e6d9'}</td>\n",
       "      <td>6</td>\n",
       "      <td>9b98b8c7a33c4b65b9aebfe6a799e6d9</td>\n",
       "      <td>NaN</td>\n",
       "      <td>NaN</td>\n",
       "      <td>F</td>\n",
       "      <td>75</td>\n",
       "      <td>1335</td>\n",
       "      <td>...</td>\n",
       "      <td>7</td>\n",
       "      <td>bogo</td>\n",
       "      <td>0.777778</td>\n",
       "      <td>0.686747</td>\n",
       "      <td>1.0</td>\n",
       "      <td>0.0</td>\n",
       "      <td>0.0</td>\n",
       "      <td>1.0</td>\n",
       "      <td>0.0</td>\n",
       "      <td>0.0</td>\n",
       "    </tr>\n",
       "    <tr>\n",
       "      <th>2</th>\n",
       "      <td>78afa995795e4d85b5d9ceeca43f5fef</td>\n",
       "      <td>offer completed</td>\n",
       "      <td>{'offer_id': '9b98b8c7a33c4b65b9aebfe6a799e6d9...</td>\n",
       "      <td>132</td>\n",
       "      <td>9b98b8c7a33c4b65b9aebfe6a799e6d9</td>\n",
       "      <td>NaN</td>\n",
       "      <td>5.0</td>\n",
       "      <td>F</td>\n",
       "      <td>75</td>\n",
       "      <td>1335</td>\n",
       "      <td>...</td>\n",
       "      <td>7</td>\n",
       "      <td>bogo</td>\n",
       "      <td>0.777778</td>\n",
       "      <td>0.686747</td>\n",
       "      <td>1.0</td>\n",
       "      <td>0.0</td>\n",
       "      <td>0.0</td>\n",
       "      <td>1.0</td>\n",
       "      <td>0.0</td>\n",
       "      <td>0.0</td>\n",
       "    </tr>\n",
       "    <tr>\n",
       "      <th>3</th>\n",
       "      <td>78afa995795e4d85b5d9ceeca43f5fef</td>\n",
       "      <td>offer received</td>\n",
       "      <td>{'offer id': '5a8bc65990b245e5a138643cd4eb9837'}</td>\n",
       "      <td>168</td>\n",
       "      <td>5a8bc65990b245e5a138643cd4eb9837</td>\n",
       "      <td>NaN</td>\n",
       "      <td>NaN</td>\n",
       "      <td>F</td>\n",
       "      <td>75</td>\n",
       "      <td>1335</td>\n",
       "      <td>...</td>\n",
       "      <td>3</td>\n",
       "      <td>informational</td>\n",
       "      <td>0.777778</td>\n",
       "      <td>0.686747</td>\n",
       "      <td>0.0</td>\n",
       "      <td>0.0</td>\n",
       "      <td>1.0</td>\n",
       "      <td>1.0</td>\n",
       "      <td>0.0</td>\n",
       "      <td>0.0</td>\n",
       "    </tr>\n",
       "    <tr>\n",
       "      <th>4</th>\n",
       "      <td>78afa995795e4d85b5d9ceeca43f5fef</td>\n",
       "      <td>offer viewed</td>\n",
       "      <td>{'offer id': '5a8bc65990b245e5a138643cd4eb9837'}</td>\n",
       "      <td>216</td>\n",
       "      <td>5a8bc65990b245e5a138643cd4eb9837</td>\n",
       "      <td>NaN</td>\n",
       "      <td>NaN</td>\n",
       "      <td>F</td>\n",
       "      <td>75</td>\n",
       "      <td>1335</td>\n",
       "      <td>...</td>\n",
       "      <td>3</td>\n",
       "      <td>informational</td>\n",
       "      <td>0.777778</td>\n",
       "      <td>0.686747</td>\n",
       "      <td>0.0</td>\n",
       "      <td>0.0</td>\n",
       "      <td>1.0</td>\n",
       "      <td>1.0</td>\n",
       "      <td>0.0</td>\n",
       "      <td>0.0</td>\n",
       "    </tr>\n",
       "    <tr>\n",
       "      <th>...</th>\n",
       "      <td>...</td>\n",
       "      <td>...</td>\n",
       "      <td>...</td>\n",
       "      <td>...</td>\n",
       "      <td>...</td>\n",
       "      <td>...</td>\n",
       "      <td>...</td>\n",
       "      <td>...</td>\n",
       "      <td>...</td>\n",
       "      <td>...</td>\n",
       "      <td>...</td>\n",
       "      <td>...</td>\n",
       "      <td>...</td>\n",
       "      <td>...</td>\n",
       "      <td>...</td>\n",
       "      <td>...</td>\n",
       "      <td>...</td>\n",
       "      <td>...</td>\n",
       "      <td>...</td>\n",
       "      <td>...</td>\n",
       "      <td>...</td>\n",
       "    </tr>\n",
       "    <tr>\n",
       "      <th>148800</th>\n",
       "      <td>9fcbff4f8d7241faa4ab8a9d19c8a812</td>\n",
       "      <td>offer viewed</td>\n",
       "      <td>{'offer id': '3f207df678b143eea3cee63160fa8bed'}</td>\n",
       "      <td>504</td>\n",
       "      <td>3f207df678b143eea3cee63160fa8bed</td>\n",
       "      <td>NaN</td>\n",
       "      <td>NaN</td>\n",
       "      <td>M</td>\n",
       "      <td>47</td>\n",
       "      <td>1178</td>\n",
       "      <td>...</td>\n",
       "      <td>4</td>\n",
       "      <td>informational</td>\n",
       "      <td>0.711111</td>\n",
       "      <td>0.349398</td>\n",
       "      <td>0.0</td>\n",
       "      <td>0.0</td>\n",
       "      <td>1.0</td>\n",
       "      <td>0.0</td>\n",
       "      <td>1.0</td>\n",
       "      <td>0.0</td>\n",
       "    </tr>\n",
       "    <tr>\n",
       "      <th>148801</th>\n",
       "      <td>9fcbff4f8d7241faa4ab8a9d19c8a812</td>\n",
       "      <td>offer received</td>\n",
       "      <td>{'offer id': '4d5c57ea9a6940dd891ad53e9dbe8da0'}</td>\n",
       "      <td>576</td>\n",
       "      <td>4d5c57ea9a6940dd891ad53e9dbe8da0</td>\n",
       "      <td>NaN</td>\n",
       "      <td>NaN</td>\n",
       "      <td>M</td>\n",
       "      <td>47</td>\n",
       "      <td>1178</td>\n",
       "      <td>...</td>\n",
       "      <td>5</td>\n",
       "      <td>bogo</td>\n",
       "      <td>0.711111</td>\n",
       "      <td>0.349398</td>\n",
       "      <td>1.0</td>\n",
       "      <td>0.0</td>\n",
       "      <td>0.0</td>\n",
       "      <td>0.0</td>\n",
       "      <td>1.0</td>\n",
       "      <td>0.0</td>\n",
       "    </tr>\n",
       "    <tr>\n",
       "      <th>148802</th>\n",
       "      <td>9fcbff4f8d7241faa4ab8a9d19c8a812</td>\n",
       "      <td>offer viewed</td>\n",
       "      <td>{'offer id': '4d5c57ea9a6940dd891ad53e9dbe8da0'}</td>\n",
       "      <td>576</td>\n",
       "      <td>4d5c57ea9a6940dd891ad53e9dbe8da0</td>\n",
       "      <td>NaN</td>\n",
       "      <td>NaN</td>\n",
       "      <td>M</td>\n",
       "      <td>47</td>\n",
       "      <td>1178</td>\n",
       "      <td>...</td>\n",
       "      <td>5</td>\n",
       "      <td>bogo</td>\n",
       "      <td>0.711111</td>\n",
       "      <td>0.349398</td>\n",
       "      <td>1.0</td>\n",
       "      <td>0.0</td>\n",
       "      <td>0.0</td>\n",
       "      <td>0.0</td>\n",
       "      <td>1.0</td>\n",
       "      <td>0.0</td>\n",
       "    </tr>\n",
       "    <tr>\n",
       "      <th>148803</th>\n",
       "      <td>3045af4e98794a04a5542d3eac939b1f</td>\n",
       "      <td>offer received</td>\n",
       "      <td>{'offer id': '4d5c57ea9a6940dd891ad53e9dbe8da0'}</td>\n",
       "      <td>576</td>\n",
       "      <td>4d5c57ea9a6940dd891ad53e9dbe8da0</td>\n",
       "      <td>NaN</td>\n",
       "      <td>NaN</td>\n",
       "      <td>F</td>\n",
       "      <td>58</td>\n",
       "      <td>1536</td>\n",
       "      <td>...</td>\n",
       "      <td>5</td>\n",
       "      <td>bogo</td>\n",
       "      <td>0.533333</td>\n",
       "      <td>0.481928</td>\n",
       "      <td>1.0</td>\n",
       "      <td>0.0</td>\n",
       "      <td>0.0</td>\n",
       "      <td>1.0</td>\n",
       "      <td>0.0</td>\n",
       "      <td>0.0</td>\n",
       "    </tr>\n",
       "    <tr>\n",
       "      <th>148804</th>\n",
       "      <td>3045af4e98794a04a5542d3eac939b1f</td>\n",
       "      <td>offer viewed</td>\n",
       "      <td>{'offer id': '4d5c57ea9a6940dd891ad53e9dbe8da0'}</td>\n",
       "      <td>576</td>\n",
       "      <td>4d5c57ea9a6940dd891ad53e9dbe8da0</td>\n",
       "      <td>NaN</td>\n",
       "      <td>NaN</td>\n",
       "      <td>F</td>\n",
       "      <td>58</td>\n",
       "      <td>1536</td>\n",
       "      <td>...</td>\n",
       "      <td>5</td>\n",
       "      <td>bogo</td>\n",
       "      <td>0.533333</td>\n",
       "      <td>0.481928</td>\n",
       "      <td>1.0</td>\n",
       "      <td>0.0</td>\n",
       "      <td>0.0</td>\n",
       "      <td>1.0</td>\n",
       "      <td>0.0</td>\n",
       "      <td>0.0</td>\n",
       "    </tr>\n",
       "  </tbody>\n",
       "</table>\n",
       "<p>148805 rows × 23 columns</p>\n",
       "</div>"
      ],
      "text/plain": [
       "                                  person            event  \\\n",
       "0       78afa995795e4d85b5d9ceeca43f5fef   offer received   \n",
       "1       78afa995795e4d85b5d9ceeca43f5fef     offer viewed   \n",
       "2       78afa995795e4d85b5d9ceeca43f5fef  offer completed   \n",
       "3       78afa995795e4d85b5d9ceeca43f5fef   offer received   \n",
       "4       78afa995795e4d85b5d9ceeca43f5fef     offer viewed   \n",
       "...                                  ...              ...   \n",
       "148800  9fcbff4f8d7241faa4ab8a9d19c8a812     offer viewed   \n",
       "148801  9fcbff4f8d7241faa4ab8a9d19c8a812   offer received   \n",
       "148802  9fcbff4f8d7241faa4ab8a9d19c8a812     offer viewed   \n",
       "148803  3045af4e98794a04a5542d3eac939b1f   offer received   \n",
       "148804  3045af4e98794a04a5542d3eac939b1f     offer viewed   \n",
       "\n",
       "                                                    value  time  \\\n",
       "0        {'offer id': '9b98b8c7a33c4b65b9aebfe6a799e6d9'}     0   \n",
       "1        {'offer id': '9b98b8c7a33c4b65b9aebfe6a799e6d9'}     6   \n",
       "2       {'offer_id': '9b98b8c7a33c4b65b9aebfe6a799e6d9...   132   \n",
       "3        {'offer id': '5a8bc65990b245e5a138643cd4eb9837'}   168   \n",
       "4        {'offer id': '5a8bc65990b245e5a138643cd4eb9837'}   216   \n",
       "...                                                   ...   ...   \n",
       "148800   {'offer id': '3f207df678b143eea3cee63160fa8bed'}   504   \n",
       "148801   {'offer id': '4d5c57ea9a6940dd891ad53e9dbe8da0'}   576   \n",
       "148802   {'offer id': '4d5c57ea9a6940dd891ad53e9dbe8da0'}   576   \n",
       "148803   {'offer id': '4d5c57ea9a6940dd891ad53e9dbe8da0'}   576   \n",
       "148804   {'offer id': '4d5c57ea9a6940dd891ad53e9dbe8da0'}   576   \n",
       "\n",
       "                                offer_id  amount  reward_x gender  age  \\\n",
       "0       9b98b8c7a33c4b65b9aebfe6a799e6d9     NaN       NaN      F   75   \n",
       "1       9b98b8c7a33c4b65b9aebfe6a799e6d9     NaN       NaN      F   75   \n",
       "2       9b98b8c7a33c4b65b9aebfe6a799e6d9     NaN       5.0      F   75   \n",
       "3       5a8bc65990b245e5a138643cd4eb9837     NaN       NaN      F   75   \n",
       "4       5a8bc65990b245e5a138643cd4eb9837     NaN       NaN      F   75   \n",
       "...                                  ...     ...       ...    ...  ...   \n",
       "148800  3f207df678b143eea3cee63160fa8bed     NaN       NaN      M   47   \n",
       "148801  4d5c57ea9a6940dd891ad53e9dbe8da0     NaN       NaN      M   47   \n",
       "148802  4d5c57ea9a6940dd891ad53e9dbe8da0     NaN       NaN      M   47   \n",
       "148803  4d5c57ea9a6940dd891ad53e9dbe8da0     NaN       NaN      F   58   \n",
       "148804  4d5c57ea9a6940dd891ad53e9dbe8da0     NaN       NaN      F   58   \n",
       "\n",
       "        total_days_of_membership  ...  duration     offer_type  std_income  \\\n",
       "0                           1335  ...         7           bogo    0.777778   \n",
       "1                           1335  ...         7           bogo    0.777778   \n",
       "2                           1335  ...         7           bogo    0.777778   \n",
       "3                           1335  ...         3  informational    0.777778   \n",
       "4                           1335  ...         3  informational    0.777778   \n",
       "...                          ...  ...       ...            ...         ...   \n",
       "148800                      1178  ...         4  informational    0.711111   \n",
       "148801                      1178  ...         5           bogo    0.711111   \n",
       "148802                      1178  ...         5           bogo    0.711111   \n",
       "148803                      1536  ...         5           bogo    0.533333   \n",
       "148804                      1536  ...         5           bogo    0.533333   \n",
       "\n",
       "         std_age bogo  discount  informational    F    M    O  \n",
       "0       0.686747  1.0       0.0            0.0  1.0  0.0  0.0  \n",
       "1       0.686747  1.0       0.0            0.0  1.0  0.0  0.0  \n",
       "2       0.686747  1.0       0.0            0.0  1.0  0.0  0.0  \n",
       "3       0.686747  0.0       0.0            1.0  1.0  0.0  0.0  \n",
       "4       0.686747  0.0       0.0            1.0  1.0  0.0  0.0  \n",
       "...          ...  ...       ...            ...  ...  ...  ...  \n",
       "148800  0.349398  0.0       0.0            1.0  0.0  1.0  0.0  \n",
       "148801  0.349398  1.0       0.0            0.0  0.0  1.0  0.0  \n",
       "148802  0.349398  1.0       0.0            0.0  0.0  1.0  0.0  \n",
       "148803  0.481928  1.0       0.0            0.0  1.0  0.0  0.0  \n",
       "148804  0.481928  1.0       0.0            0.0  1.0  0.0  0.0  \n",
       "\n",
       "[148805 rows x 23 columns]"
      ]
     },
     "execution_count": 39,
     "metadata": {},
     "output_type": "execute_result"
    }
   ],
   "source": [
    "from sklearn import preprocessing\n",
    "from sklearn.preprocessing import OneHotEncoder\n",
    "\n",
    "\n",
    "scaler = preprocessing.MinMaxScaler()\n",
    "training_df['std_income'] = scaler.fit_transform(training_df[['income']])\n",
    "training_df['std_age']    = scaler.fit_transform(training_df[['age']])\n",
    "\n",
    "#one hot encode offer_type\n",
    "enc = OneHotEncoder(handle_unknown='ignore')\n",
    "enc_offer = pd.DataFrame(enc.fit_transform(  pd.DataFrame(training_df['offer_type'])  ).toarray())\n",
    "\n",
    "feature_labels = enc.categories_\n",
    "feature_labels = np.array(feature_labels).ravel()\n",
    "enc_offer.columns = feature_labels\n",
    "\n",
    "#one hot encode gender\n",
    "enc_g = OneHotEncoder(handle_unknown='ignore')\n",
    "enc_gender = pd.DataFrame(enc_g.fit_transform(pd.DataFrame(training_df['gender'])).toarray())\n",
    "\n",
    "feature_labels = enc_g.categories_\n",
    "feature_labels = np.array(feature_labels).ravel()\n",
    "enc_gender.columns = feature_labels\n",
    "\n",
    "training_df = training_df.join(enc_offer)\n",
    "training_df = training_df.join(enc_gender)\n",
    "training_df"
   ]
  },
  {
   "cell_type": "markdown",
   "metadata": {},
   "source": [
    "### How to determine successful offers? a key element in drawing valuable conclusions \n",
    "\n",
    "A key element in being able to do a powerful data analysis and implement a successful model is being able to determine the successful offers, i.e. those that were received, viewed and completed. \n",
    "\n",
    "The following function has that objective. Here we assume that for an offer to be successful, (for a particular client and offer, to be exact) it must have three successive events in the following **strict** order: \n",
    "\n",
    "    offer received\n",
    "    offer viewed\n",
    "    offer completed\n",
    " "
   ]
  },
  {
   "cell_type": "code",
   "execution_count": 40,
   "metadata": {},
   "outputs": [],
   "source": [
    "\n",
    "training_df = training_df.drop(columns=['value','amount','reward_x'])\n",
    "training_df =  training_df.rename(columns={'reward_y':'reward'})"
   ]
  },
  {
   "cell_type": "code",
   "execution_count": 41,
   "metadata": {},
   "outputs": [],
   "source": [
    "#The objective of this function is to mark the offers received that were successfully completed\n",
    "def determine_offer_completed(person,offer_id,time):  \n",
    "    \n",
    "    result = training_df.loc[  (training_df['person']   == person) \n",
    "                               & (training_df['offer_id'] == offer_id) \n",
    "                               & (training_df['time']>time), ['event','time']\n",
    "                             ].sort_values(['time'],ascending=True).head(2)['event']   \n",
    "  \n",
    "    completed = (len(result)==2) and (result.iloc[[0][0]]=='offer viewed') and (result.iloc[[1][0]]=='offer completed')\n",
    "    return (1.0 if completed else 0.0)\n",
    "\n"
   ]
  },
  {
   "cell_type": "markdown",
   "metadata": {},
   "source": [
    "So the algorithm starts creating a new column called completed, initialized with the value 0.0. It then scans all the offers received and updates this value to 1.0 or 0.0 depending on whether the offer was completed by the customer or not."
   ]
  },
  {
   "cell_type": "code",
   "execution_count": 847,
   "metadata": {},
   "outputs": [],
   "source": [
    "training_df['completed'] = 0.0\n",
    "\n",
    "# we will process all the offers received to determine whether or not they were successfully completed\n",
    "\n",
    "training_df['completed'] = ( training_df.loc[training_df['event']=='offer received']\n",
    "                            .apply(lambda x: determine_offer_completed(x.person, x.offer_id, x.time), axis=1) )\n",
    "training_df.fillna(0.0, inplace = True)\n"
   ]
  },
  {
   "cell_type": "code",
   "execution_count": 848,
   "metadata": {},
   "outputs": [
    {
     "name": "stdout",
     "output_type": "stream",
     "text": [
      "Total offers completed 16173\n",
      "Percentage offers Completed 24.319935038570847\n"
     ]
    }
   ],
   "source": [
    "training_df = training_df.loc[training_df['event']=='offer received'].copy()\n",
    "\n",
    "total_completed = len(training_df.loc[ (training_df['event']=='offer received') & (training_df['completed']==1.0) ])\n",
    "percentage_completed = (total_completed / len(training_df.loc[ (training_df['event']=='offer received')])) * 100\n",
    "print('Total offers completed {total}'.format(total=total_completed))\n",
    "print('Percentage offers Completed {total}'.format(total=percentage_completed))\n"
   ]
  },
  {
   "cell_type": "markdown",
   "metadata": {},
   "source": [
    "#### Preprocessing of Total days of membership"
   ]
  },
  {
   "cell_type": "markdown",
   "metadata": {},
   "source": [
    "Lets create categories for the column **total_days_of_membership** based on the inter quartyle ranges\n",
    "\n",
    "    1     - 1093 days   :  0\n",
    "    1094  - 1683 days   :  1\n",
    "    > 1683              :  2"
   ]
  },
  {
   "cell_type": "code",
   "execution_count": 42,
   "metadata": {},
   "outputs": [],
   "source": [
    "def categorize_tot_days_membership(days):\n",
    "    if days in range (1,1093):\n",
    "        return 0\n",
    "    elif days in range (1094,1683):\n",
    "        return 1\n",
    "    else:\n",
    "        return 2\n",
    "        \n",
    "training_df['type_of_membership'] =  training_df['total_days_of_membership'].apply(lambda x: categorize_tot_days_membership(x))  "
   ]
  },
  {
   "cell_type": "markdown",
   "metadata": {},
   "source": [
    "## Insight from the dataset"
   ]
  },
  {
   "cell_type": "markdown",
   "metadata": {},
   "source": [
    "    Offers completed by genre\n",
    "    Offers completed by offer type\n",
    "    Offers completed by income"
   ]
  },
  {
   "cell_type": "code",
   "execution_count": 888,
   "metadata": {},
   "outputs": [
    {
     "data": {
      "text/plain": [
       "gender  completed\n",
       "F       0.0          19904\n",
       "        1.0           7552\n",
       "M       0.0          29768\n",
       "        1.0           8361\n",
       "O       0.0            656\n",
       "        1.0            260\n",
       "Name: completed, dtype: int64"
      ]
     },
     "execution_count": 888,
     "metadata": {},
     "output_type": "execute_result"
    }
   ],
   "source": [
    "training_df.groupby(['gender','completed'])['completed'].count()"
   ]
  },
  {
   "cell_type": "code",
   "execution_count": 903,
   "metadata": {},
   "outputs": [
    {
     "data": {
      "image/png": "[encoded data removed]",
      "text/plain": [
       "<Figure size 1080x504 with 1 Axes>"
      ]
     },
     "metadata": {
      "needs_background": "light"
     },
     "output_type": "display_data"
    }
   ],
   "source": [
    "import seaborn as sns\n",
    "\n",
    "plt.figure(figsize=(15, 7))\n",
    "g = sns.countplot(x=\"gender\", hue=\"completed\", data=training_df)\n",
    "plt.title('Offers View and Completed vs Gender')\n",
    "plt.ylabel('Offers View and Completed')\n",
    "xlabels = ['Female', 'Male']\n",
    "g.set_xticklabels(xlabels)\n",
    "plt.xlabel('Gender')\n",
    "plt.xticks(rotation = 0)\n",
    "plt.show();"
   ]
  },
  {
   "cell_type": "markdown",
   "metadata": {},
   "source": [
    "### Women complete more offers than men."
   ]
  },
  {
   "cell_type": "code",
   "execution_count": 910,
   "metadata": {},
   "outputs": [
    {
     "data": {
      "text/plain": [
       "offer_type     completed\n",
       "bogo           0.0          18954\n",
       "               1.0           7583\n",
       "discount       0.0          18074\n",
       "               1.0           8590\n",
       "informational  0.0          13300\n",
       "Name: completed, dtype: int64"
      ]
     },
     "execution_count": 910,
     "metadata": {},
     "output_type": "execute_result"
    }
   ],
   "source": [
    "training_df.groupby(['offer_type','completed'])['completed'].count()"
   ]
  },
  {
   "cell_type": "code",
   "execution_count": 908,
   "metadata": {},
   "outputs": [
    {
     "data": {
      "image/png": "[encoded data removed]",
      "text/plain": [
       "<Figure size 1080x504 with 1 Axes>"
      ]
     },
     "metadata": {
      "needs_background": "light"
     },
     "output_type": "display_data"
    }
   ],
   "source": [
    "plt.figure(figsize=(15, 7))\n",
    "g = sns.countplot(x=\"offer_type\", hue=\"completed\", data=training_df)\n",
    "plt.title('Offer type vs Offers View and Completed ')\n",
    "plt.ylabel('Offers View and Completed')\n",
    "plt.xlabel('Offer type')\n",
    "plt.xticks(rotation = 0)\n",
    "plt.show();"
   ]
  },
  {
   "cell_type": "markdown",
   "metadata": {},
   "source": [
    "### The most successful type of offer is DISCOUNT"
   ]
  },
  {
   "cell_type": "code",
   "execution_count": 896,
   "metadata": {},
   "outputs": [
    {
     "data": {
      "text/plain": [
       "type_of_membership  completed\n",
       "0                   0.0          13893\n",
       "                    1.0           2517\n",
       "1                   0.0          24702\n",
       "                    1.0           8601\n",
       "2                   0.0          11733\n",
       "                    1.0           5055\n",
       "Name: completed, dtype: int64"
      ]
     },
     "execution_count": 896,
     "metadata": {},
     "output_type": "execute_result"
    }
   ],
   "source": [
    "training_df.groupby(['type_of_membership','completed'])['completed'].count()"
   ]
  },
  {
   "cell_type": "code",
   "execution_count": 909,
   "metadata": {},
   "outputs": [
    {
     "data": {
      "image/png": "[encoded data removed]",
      "text/plain": [
       "<Figure size 1080x504 with 1 Axes>"
      ]
     },
     "metadata": {
      "needs_background": "light"
     },
     "output_type": "display_data"
    }
   ],
   "source": [
    "plt.figure(figsize=(15, 7))\n",
    "g = sns.countplot(x=\"type_of_membership\", hue=\"completed\", data=training_df)\n",
    "plt.title('Membership range vs Offers View and Completed ')\n",
    "plt.ylabel('Offers View and Completed')\n",
    "xlabels = ['New', 'Regulsr' , 'Senior']\n",
    "g.set_xticklabels(xlabels)\n",
    "plt.xlabel('type_of_membership')\n",
    "plt.xticks(rotation = 0)\n",
    "plt.show();"
   ]
  },
  {
   "cell_type": "markdown",
   "metadata": {},
   "source": [
    "### The oldest customers on the platform are the ones who complete the most offers"
   ]
  },
  {
   "cell_type": "code",
   "execution_count": 906,
   "metadata": {},
   "outputs": [
    {
     "data": {
      "image/png": "[encoded data removed]",
      "text/plain": [
       "<Figure size 1080x504 with 1 Axes>"
      ]
     },
     "metadata": {
      "needs_background": "light"
     },
     "output_type": "display_data"
    }
   ],
   "source": [
    "plt.figure(figsize=(15, 7))\n",
    "g = sns.countplot(x=\"gender\", hue=\"type_of_membership\", data=training_df)\n",
    "plt.title('Gender vs Membership range')\n",
    "plt.ylabel('Membership range')\n",
    "xlabels = ['Female', 'Male' , 'Other']\n",
    "g.set_xticklabels(xlabels)\n",
    "plt.xlabel('Gender')\n",
    "plt.xticks(rotation = 0)\n",
    "plt.show();"
   ]
  },
  {
   "cell_type": "code",
   "execution_count": 835,
   "metadata": {},
   "outputs": [
    {
     "data": {
      "text/html": [
       "<div>\n",
       "<style scoped>\n",
       "    .dataframe tbody tr th:only-of-type {\n",
       "        vertical-align: middle;\n",
       "    }\n",
       "\n",
       "    .dataframe tbody tr th {\n",
       "        vertical-align: top;\n",
       "    }\n",
       "\n",
       "    .dataframe thead th {\n",
       "        text-align: right;\n",
       "    }\n",
       "</style>\n",
       "<table border=\"1\" class=\"dataframe\">\n",
       "  <thead>\n",
       "    <tr style=\"text-align: right;\">\n",
       "      <th></th>\n",
       "      <th>time</th>\n",
       "      <th>reward</th>\n",
       "      <th>difficulty</th>\n",
       "      <th>duration</th>\n",
       "      <th>std_income</th>\n",
       "      <th>std_age</th>\n",
       "      <th>bogo</th>\n",
       "      <th>discount</th>\n",
       "      <th>informational</th>\n",
       "      <th>F</th>\n",
       "      <th>M</th>\n",
       "      <th>O</th>\n",
       "      <th>completed</th>\n",
       "      <th>type_of_membership</th>\n",
       "    </tr>\n",
       "  </thead>\n",
       "  <tbody>\n",
       "    <tr>\n",
       "      <th>0</th>\n",
       "      <td>0</td>\n",
       "      <td>5</td>\n",
       "      <td>5</td>\n",
       "      <td>7</td>\n",
       "      <td>0.777778</td>\n",
       "      <td>0.686747</td>\n",
       "      <td>1.0</td>\n",
       "      <td>0.0</td>\n",
       "      <td>0.0</td>\n",
       "      <td>1.0</td>\n",
       "      <td>0.0</td>\n",
       "      <td>0.0</td>\n",
       "      <td>0.0</td>\n",
       "      <td>1</td>\n",
       "    </tr>\n",
       "    <tr>\n",
       "      <th>3</th>\n",
       "      <td>168</td>\n",
       "      <td>0</td>\n",
       "      <td>0</td>\n",
       "      <td>3</td>\n",
       "      <td>0.777778</td>\n",
       "      <td>0.686747</td>\n",
       "      <td>0.0</td>\n",
       "      <td>0.0</td>\n",
       "      <td>1.0</td>\n",
       "      <td>1.0</td>\n",
       "      <td>0.0</td>\n",
       "      <td>0.0</td>\n",
       "      <td>0.0</td>\n",
       "      <td>1</td>\n",
       "    </tr>\n",
       "    <tr>\n",
       "      <th>5</th>\n",
       "      <td>408</td>\n",
       "      <td>10</td>\n",
       "      <td>10</td>\n",
       "      <td>7</td>\n",
       "      <td>0.777778</td>\n",
       "      <td>0.686747</td>\n",
       "      <td>1.0</td>\n",
       "      <td>0.0</td>\n",
       "      <td>0.0</td>\n",
       "      <td>1.0</td>\n",
       "      <td>0.0</td>\n",
       "      <td>0.0</td>\n",
       "      <td>0.0</td>\n",
       "      <td>1</td>\n",
       "    </tr>\n",
       "    <tr>\n",
       "      <th>7</th>\n",
       "      <td>504</td>\n",
       "      <td>5</td>\n",
       "      <td>5</td>\n",
       "      <td>5</td>\n",
       "      <td>0.777778</td>\n",
       "      <td>0.686747</td>\n",
       "      <td>1.0</td>\n",
       "      <td>0.0</td>\n",
       "      <td>0.0</td>\n",
       "      <td>1.0</td>\n",
       "      <td>0.0</td>\n",
       "      <td>0.0</td>\n",
       "      <td>0.0</td>\n",
       "      <td>1</td>\n",
       "    </tr>\n",
       "    <tr>\n",
       "      <th>11</th>\n",
       "      <td>0</td>\n",
       "      <td>2</td>\n",
       "      <td>10</td>\n",
       "      <td>7</td>\n",
       "      <td>0.444444</td>\n",
       "      <td>0.602410</td>\n",
       "      <td>0.0</td>\n",
       "      <td>1.0</td>\n",
       "      <td>0.0</td>\n",
       "      <td>0.0</td>\n",
       "      <td>1.0</td>\n",
       "      <td>0.0</td>\n",
       "      <td>0.0</td>\n",
       "      <td>0</td>\n",
       "    </tr>\n",
       "    <tr>\n",
       "      <th>...</th>\n",
       "      <td>...</td>\n",
       "      <td>...</td>\n",
       "      <td>...</td>\n",
       "      <td>...</td>\n",
       "      <td>...</td>\n",
       "      <td>...</td>\n",
       "      <td>...</td>\n",
       "      <td>...</td>\n",
       "      <td>...</td>\n",
       "      <td>...</td>\n",
       "      <td>...</td>\n",
       "      <td>...</td>\n",
       "      <td>...</td>\n",
       "      <td>...</td>\n",
       "    </tr>\n",
       "    <tr>\n",
       "      <th>148796</th>\n",
       "      <td>504</td>\n",
       "      <td>10</td>\n",
       "      <td>10</td>\n",
       "      <td>5</td>\n",
       "      <td>0.311111</td>\n",
       "      <td>0.361446</td>\n",
       "      <td>1.0</td>\n",
       "      <td>0.0</td>\n",
       "      <td>0.0</td>\n",
       "      <td>0.0</td>\n",
       "      <td>1.0</td>\n",
       "      <td>0.0</td>\n",
       "      <td>0.0</td>\n",
       "      <td>0</td>\n",
       "    </tr>\n",
       "    <tr>\n",
       "      <th>148798</th>\n",
       "      <td>576</td>\n",
       "      <td>2</td>\n",
       "      <td>10</td>\n",
       "      <td>7</td>\n",
       "      <td>0.311111</td>\n",
       "      <td>0.361446</td>\n",
       "      <td>0.0</td>\n",
       "      <td>1.0</td>\n",
       "      <td>0.0</td>\n",
       "      <td>0.0</td>\n",
       "      <td>1.0</td>\n",
       "      <td>0.0</td>\n",
       "      <td>0.0</td>\n",
       "      <td>0</td>\n",
       "    </tr>\n",
       "    <tr>\n",
       "      <th>148799</th>\n",
       "      <td>504</td>\n",
       "      <td>0</td>\n",
       "      <td>0</td>\n",
       "      <td>4</td>\n",
       "      <td>0.711111</td>\n",
       "      <td>0.349398</td>\n",
       "      <td>0.0</td>\n",
       "      <td>0.0</td>\n",
       "      <td>1.0</td>\n",
       "      <td>0.0</td>\n",
       "      <td>1.0</td>\n",
       "      <td>0.0</td>\n",
       "      <td>0.0</td>\n",
       "      <td>1</td>\n",
       "    </tr>\n",
       "    <tr>\n",
       "      <th>148801</th>\n",
       "      <td>576</td>\n",
       "      <td>10</td>\n",
       "      <td>10</td>\n",
       "      <td>5</td>\n",
       "      <td>0.711111</td>\n",
       "      <td>0.349398</td>\n",
       "      <td>1.0</td>\n",
       "      <td>0.0</td>\n",
       "      <td>0.0</td>\n",
       "      <td>0.0</td>\n",
       "      <td>1.0</td>\n",
       "      <td>0.0</td>\n",
       "      <td>0.0</td>\n",
       "      <td>1</td>\n",
       "    </tr>\n",
       "    <tr>\n",
       "      <th>148803</th>\n",
       "      <td>576</td>\n",
       "      <td>10</td>\n",
       "      <td>10</td>\n",
       "      <td>5</td>\n",
       "      <td>0.533333</td>\n",
       "      <td>0.481928</td>\n",
       "      <td>1.0</td>\n",
       "      <td>0.0</td>\n",
       "      <td>0.0</td>\n",
       "      <td>1.0</td>\n",
       "      <td>0.0</td>\n",
       "      <td>0.0</td>\n",
       "      <td>0.0</td>\n",
       "      <td>1</td>\n",
       "    </tr>\n",
       "  </tbody>\n",
       "</table>\n",
       "<p>66501 rows × 14 columns</p>\n",
       "</div>"
      ],
      "text/plain": [
       "        time  reward  difficulty  duration  std_income   std_age  bogo  \\\n",
       "0          0       5           5         7    0.777778  0.686747   1.0   \n",
       "3        168       0           0         3    0.777778  0.686747   0.0   \n",
       "5        408      10          10         7    0.777778  0.686747   1.0   \n",
       "7        504       5           5         5    0.777778  0.686747   1.0   \n",
       "11         0       2          10         7    0.444444  0.602410   0.0   \n",
       "...      ...     ...         ...       ...         ...       ...   ...   \n",
       "148796   504      10          10         5    0.311111  0.361446   1.0   \n",
       "148798   576       2          10         7    0.311111  0.361446   0.0   \n",
       "148799   504       0           0         4    0.711111  0.349398   0.0   \n",
       "148801   576      10          10         5    0.711111  0.349398   1.0   \n",
       "148803   576      10          10         5    0.533333  0.481928   1.0   \n",
       "\n",
       "        discount  informational    F    M    O  completed  type_of_membership  \n",
       "0            0.0            0.0  1.0  0.0  0.0        0.0                   1  \n",
       "3            0.0            1.0  1.0  0.0  0.0        0.0                   1  \n",
       "5            0.0            0.0  1.0  0.0  0.0        0.0                   1  \n",
       "7            0.0            0.0  1.0  0.0  0.0        0.0                   1  \n",
       "11           1.0            0.0  0.0  1.0  0.0        0.0                   0  \n",
       "...          ...            ...  ...  ...  ...        ...                 ...  \n",
       "148796       0.0            0.0  0.0  1.0  0.0        0.0                   0  \n",
       "148798       1.0            0.0  0.0  1.0  0.0        0.0                   0  \n",
       "148799       0.0            1.0  0.0  1.0  0.0        0.0                   1  \n",
       "148801       0.0            0.0  0.0  1.0  0.0        0.0                   1  \n",
       "148803       0.0            0.0  1.0  0.0  0.0        0.0                   1  \n",
       "\n",
       "[66501 rows x 14 columns]"
      ]
     },
     "execution_count": 835,
     "metadata": {},
     "output_type": "execute_result"
    }
   ],
   "source": [
    "training_df=training_df.drop(columns=['person', 'event', 'offer_id', 'gender', 'age', 'income','offer_type','total_days_of_membership'] )\n",
    "training_df"
   ]
  },
  {
   "cell_type": "code",
   "execution_count": 850,
   "metadata": {},
   "outputs": [
    {
     "data": {
      "text/plain": [
       "<matplotlib.axes._subplots.AxesSubplot at 0x130d772d0>"
      ]
     },
     "execution_count": 850,
     "metadata": {},
     "output_type": "execute_result"
    },
    {
     "data": {
      "image/png": "[encoded data removed]",
      "text/plain": [
       "<Figure size 432x288 with 1 Axes>"
      ]
     },
     "metadata": {
      "needs_background": "light"
     },
     "output_type": "display_data"
    }
   ],
   "source": [
    "training_df['type_of_membership'].hist()"
   ]
  },
  {
   "cell_type": "code",
   "execution_count": 884,
   "metadata": {},
   "outputs": [],
   "source": []
  },
  {
   "cell_type": "markdown",
   "metadata": {},
   "source": [
    "Now that we have a complete data set, it is now important to analyze the correlation between the different characteristics"
   ]
  },
  {
   "cell_type": "code",
   "execution_count": 43,
   "metadata": {},
   "outputs": [
    {
     "data": {
      "text/html": [
       "<div>\n",
       "<style scoped>\n",
       "    .dataframe tbody tr th:only-of-type {\n",
       "        vertical-align: middle;\n",
       "    }\n",
       "\n",
       "    .dataframe tbody tr th {\n",
       "        vertical-align: top;\n",
       "    }\n",
       "\n",
       "    .dataframe thead th {\n",
       "        text-align: right;\n",
       "    }\n",
       "</style>\n",
       "<table border=\"1\" class=\"dataframe\">\n",
       "  <thead>\n",
       "    <tr style=\"text-align: right;\">\n",
       "      <th></th>\n",
       "      <th>time</th>\n",
       "      <th>age</th>\n",
       "      <th>total_days_of_membership</th>\n",
       "      <th>income</th>\n",
       "      <th>reward</th>\n",
       "      <th>difficulty</th>\n",
       "      <th>duration</th>\n",
       "      <th>std_income</th>\n",
       "      <th>std_age</th>\n",
       "      <th>bogo</th>\n",
       "      <th>discount</th>\n",
       "      <th>informational</th>\n",
       "      <th>F</th>\n",
       "      <th>M</th>\n",
       "      <th>O</th>\n",
       "      <th>type_of_membership</th>\n",
       "    </tr>\n",
       "  </thead>\n",
       "  <tbody>\n",
       "    <tr>\n",
       "      <th>time</th>\n",
       "      <td>1.000000</td>\n",
       "      <td>0.006074</td>\n",
       "      <td>0.005405</td>\n",
       "      <td>0.004389</td>\n",
       "      <td>0.005320</td>\n",
       "      <td>0.023295</td>\n",
       "      <td>0.025480</td>\n",
       "      <td>0.004389</td>\n",
       "      <td>0.006074</td>\n",
       "      <td>-0.002493</td>\n",
       "      <td>0.020835</td>\n",
       "      <td>-0.025175</td>\n",
       "      <td>0.004233</td>\n",
       "      <td>-0.002928</td>\n",
       "      <td>-0.005317</td>\n",
       "      <td>0.006074</td>\n",
       "    </tr>\n",
       "    <tr>\n",
       "      <th>age</th>\n",
       "      <td>0.006074</td>\n",
       "      <td>1.000000</td>\n",
       "      <td>0.008127</td>\n",
       "      <td>0.305096</td>\n",
       "      <td>0.000911</td>\n",
       "      <td>0.009898</td>\n",
       "      <td>0.006579</td>\n",
       "      <td>0.305096</td>\n",
       "      <td>1.000000</td>\n",
       "      <td>-0.000658</td>\n",
       "      <td>0.003954</td>\n",
       "      <td>-0.004524</td>\n",
       "      <td>0.141276</td>\n",
       "      <td>-0.141298</td>\n",
       "      <td>0.002335</td>\n",
       "      <td>0.025883</td>\n",
       "    </tr>\n",
       "    <tr>\n",
       "      <th>total_days_of_membership</th>\n",
       "      <td>0.005405</td>\n",
       "      <td>0.008127</td>\n",
       "      <td>1.000000</td>\n",
       "      <td>0.019332</td>\n",
       "      <td>0.000656</td>\n",
       "      <td>0.009308</td>\n",
       "      <td>0.014806</td>\n",
       "      <td>0.019332</td>\n",
       "      <td>0.008127</td>\n",
       "      <td>0.000287</td>\n",
       "      <td>0.009646</td>\n",
       "      <td>-0.013641</td>\n",
       "      <td>-0.026516</td>\n",
       "      <td>0.029776</td>\n",
       "      <td>-0.013872</td>\n",
       "      <td>0.853554</td>\n",
       "    </tr>\n",
       "    <tr>\n",
       "      <th>income</th>\n",
       "      <td>0.004389</td>\n",
       "      <td>0.305096</td>\n",
       "      <td>0.019332</td>\n",
       "      <td>1.000000</td>\n",
       "      <td>0.014786</td>\n",
       "      <td>0.026340</td>\n",
       "      <td>0.015368</td>\n",
       "      <td>1.000000</td>\n",
       "      <td>0.305096</td>\n",
       "      <td>0.006383</td>\n",
       "      <td>0.007434</td>\n",
       "      <td>-0.019001</td>\n",
       "      <td>0.211365</td>\n",
       "      <td>-0.207787</td>\n",
       "      <td>-0.011402</td>\n",
       "      <td>0.056486</td>\n",
       "    </tr>\n",
       "    <tr>\n",
       "      <th>reward</th>\n",
       "      <td>0.005320</td>\n",
       "      <td>0.000911</td>\n",
       "      <td>0.000656</td>\n",
       "      <td>0.014786</td>\n",
       "      <td>1.000000</td>\n",
       "      <td>0.421174</td>\n",
       "      <td>0.043448</td>\n",
       "      <td>0.014786</td>\n",
       "      <td>0.000911</td>\n",
       "      <td>0.797030</td>\n",
       "      <td>-0.392971</td>\n",
       "      <td>-0.558321</td>\n",
       "      <td>0.010921</td>\n",
       "      <td>-0.009648</td>\n",
       "      <td>-0.005080</td>\n",
       "      <td>0.005879</td>\n",
       "    </tr>\n",
       "    <tr>\n",
       "      <th>difficulty</th>\n",
       "      <td>0.023295</td>\n",
       "      <td>0.009898</td>\n",
       "      <td>0.009308</td>\n",
       "      <td>0.026340</td>\n",
       "      <td>0.421174</td>\n",
       "      <td>1.000000</td>\n",
       "      <td>0.766816</td>\n",
       "      <td>0.026340</td>\n",
       "      <td>0.009898</td>\n",
       "      <td>-0.059661</td>\n",
       "      <td>0.542964</td>\n",
       "      <td>-0.663374</td>\n",
       "      <td>0.012035</td>\n",
       "      <td>-0.012036</td>\n",
       "      <td>0.000196</td>\n",
       "      <td>0.010846</td>\n",
       "    </tr>\n",
       "    <tr>\n",
       "      <th>duration</th>\n",
       "      <td>0.025480</td>\n",
       "      <td>0.006579</td>\n",
       "      <td>0.014806</td>\n",
       "      <td>0.015368</td>\n",
       "      <td>0.043448</td>\n",
       "      <td>0.766816</td>\n",
       "      <td>1.000000</td>\n",
       "      <td>0.015368</td>\n",
       "      <td>0.006579</td>\n",
       "      <td>-0.270651</td>\n",
       "      <td>0.731328</td>\n",
       "      <td>-0.631379</td>\n",
       "      <td>0.004428</td>\n",
       "      <td>-0.004923</td>\n",
       "      <td>0.002114</td>\n",
       "      <td>0.013319</td>\n",
       "    </tr>\n",
       "    <tr>\n",
       "      <th>std_income</th>\n",
       "      <td>0.004389</td>\n",
       "      <td>0.305096</td>\n",
       "      <td>0.019332</td>\n",
       "      <td>1.000000</td>\n",
       "      <td>0.014786</td>\n",
       "      <td>0.026340</td>\n",
       "      <td>0.015368</td>\n",
       "      <td>1.000000</td>\n",
       "      <td>0.305096</td>\n",
       "      <td>0.006383</td>\n",
       "      <td>0.007434</td>\n",
       "      <td>-0.019001</td>\n",
       "      <td>0.211365</td>\n",
       "      <td>-0.207787</td>\n",
       "      <td>-0.011402</td>\n",
       "      <td>0.056486</td>\n",
       "    </tr>\n",
       "    <tr>\n",
       "      <th>std_age</th>\n",
       "      <td>0.006074</td>\n",
       "      <td>1.000000</td>\n",
       "      <td>0.008127</td>\n",
       "      <td>0.305096</td>\n",
       "      <td>0.000911</td>\n",
       "      <td>0.009898</td>\n",
       "      <td>0.006579</td>\n",
       "      <td>0.305096</td>\n",
       "      <td>1.000000</td>\n",
       "      <td>-0.000658</td>\n",
       "      <td>0.003954</td>\n",
       "      <td>-0.004524</td>\n",
       "      <td>0.141276</td>\n",
       "      <td>-0.141298</td>\n",
       "      <td>0.002335</td>\n",
       "      <td>0.025883</td>\n",
       "    </tr>\n",
       "    <tr>\n",
       "      <th>bogo</th>\n",
       "      <td>-0.002493</td>\n",
       "      <td>-0.000658</td>\n",
       "      <td>0.000287</td>\n",
       "      <td>0.006383</td>\n",
       "      <td>0.797030</td>\n",
       "      <td>-0.059661</td>\n",
       "      <td>-0.270651</td>\n",
       "      <td>0.006383</td>\n",
       "      <td>-0.000658</td>\n",
       "      <td>1.000000</td>\n",
       "      <td>-0.735665</td>\n",
       "      <td>-0.367355</td>\n",
       "      <td>0.007820</td>\n",
       "      <td>-0.007094</td>\n",
       "      <td>-0.002871</td>\n",
       "      <td>0.004684</td>\n",
       "    </tr>\n",
       "    <tr>\n",
       "      <th>discount</th>\n",
       "      <td>0.020835</td>\n",
       "      <td>0.003954</td>\n",
       "      <td>0.009646</td>\n",
       "      <td>0.007434</td>\n",
       "      <td>-0.392971</td>\n",
       "      <td>0.542964</td>\n",
       "      <td>0.731328</td>\n",
       "      <td>0.007434</td>\n",
       "      <td>0.003954</td>\n",
       "      <td>-0.735665</td>\n",
       "      <td>1.000000</td>\n",
       "      <td>-0.359736</td>\n",
       "      <td>-0.000822</td>\n",
       "      <td>0.000738</td>\n",
       "      <td>0.000334</td>\n",
       "      <td>0.006708</td>\n",
       "    </tr>\n",
       "    <tr>\n",
       "      <th>informational</th>\n",
       "      <td>-0.025175</td>\n",
       "      <td>-0.004524</td>\n",
       "      <td>-0.013641</td>\n",
       "      <td>-0.019001</td>\n",
       "      <td>-0.558321</td>\n",
       "      <td>-0.663374</td>\n",
       "      <td>-0.631379</td>\n",
       "      <td>-0.019001</td>\n",
       "      <td>-0.004524</td>\n",
       "      <td>-0.367355</td>\n",
       "      <td>-0.359736</td>\n",
       "      <td>1.000000</td>\n",
       "      <td>-0.009643</td>\n",
       "      <td>0.008759</td>\n",
       "      <td>0.003496</td>\n",
       "      <td>-0.015662</td>\n",
       "    </tr>\n",
       "    <tr>\n",
       "      <th>F</th>\n",
       "      <td>0.004233</td>\n",
       "      <td>0.141276</td>\n",
       "      <td>-0.026516</td>\n",
       "      <td>0.211365</td>\n",
       "      <td>0.010921</td>\n",
       "      <td>0.012035</td>\n",
       "      <td>0.004428</td>\n",
       "      <td>0.211365</td>\n",
       "      <td>0.141276</td>\n",
       "      <td>0.007820</td>\n",
       "      <td>-0.000822</td>\n",
       "      <td>-0.009643</td>\n",
       "      <td>1.000000</td>\n",
       "      <td>-0.970510</td>\n",
       "      <td>-0.105764</td>\n",
       "      <td>0.015577</td>\n",
       "    </tr>\n",
       "    <tr>\n",
       "      <th>M</th>\n",
       "      <td>-0.002928</td>\n",
       "      <td>-0.141298</td>\n",
       "      <td>0.029776</td>\n",
       "      <td>-0.207787</td>\n",
       "      <td>-0.009648</td>\n",
       "      <td>-0.012036</td>\n",
       "      <td>-0.004923</td>\n",
       "      <td>-0.207787</td>\n",
       "      <td>-0.141298</td>\n",
       "      <td>-0.007094</td>\n",
       "      <td>0.000738</td>\n",
       "      <td>0.008759</td>\n",
       "      <td>-0.970510</td>\n",
       "      <td>1.000000</td>\n",
       "      <td>-0.137065</td>\n",
       "      <td>-0.011630</td>\n",
       "    </tr>\n",
       "    <tr>\n",
       "      <th>O</th>\n",
       "      <td>-0.005317</td>\n",
       "      <td>0.002335</td>\n",
       "      <td>-0.013872</td>\n",
       "      <td>-0.011402</td>\n",
       "      <td>-0.005080</td>\n",
       "      <td>0.000196</td>\n",
       "      <td>0.002114</td>\n",
       "      <td>-0.011402</td>\n",
       "      <td>0.002335</td>\n",
       "      <td>-0.002871</td>\n",
       "      <td>0.000334</td>\n",
       "      <td>0.003496</td>\n",
       "      <td>-0.105764</td>\n",
       "      <td>-0.137065</td>\n",
       "      <td>1.000000</td>\n",
       "      <td>-0.016035</td>\n",
       "    </tr>\n",
       "    <tr>\n",
       "      <th>type_of_membership</th>\n",
       "      <td>0.006074</td>\n",
       "      <td>0.025883</td>\n",
       "      <td>0.853554</td>\n",
       "      <td>0.056486</td>\n",
       "      <td>0.005879</td>\n",
       "      <td>0.010846</td>\n",
       "      <td>0.013319</td>\n",
       "      <td>0.056486</td>\n",
       "      <td>0.025883</td>\n",
       "      <td>0.004684</td>\n",
       "      <td>0.006708</td>\n",
       "      <td>-0.015662</td>\n",
       "      <td>0.015577</td>\n",
       "      <td>-0.011630</td>\n",
       "      <td>-0.016035</td>\n",
       "      <td>1.000000</td>\n",
       "    </tr>\n",
       "  </tbody>\n",
       "</table>\n",
       "</div>"
      ],
      "text/plain": [
       "                              time       age  total_days_of_membership  \\\n",
       "time                      1.000000  0.006074                  0.005405   \n",
       "age                       0.006074  1.000000                  0.008127   \n",
       "total_days_of_membership  0.005405  0.008127                  1.000000   \n",
       "income                    0.004389  0.305096                  0.019332   \n",
       "reward                    0.005320  0.000911                  0.000656   \n",
       "difficulty                0.023295  0.009898                  0.009308   \n",
       "duration                  0.025480  0.006579                  0.014806   \n",
       "std_income                0.004389  0.305096                  0.019332   \n",
       "std_age                   0.006074  1.000000                  0.008127   \n",
       "bogo                     -0.002493 -0.000658                  0.000287   \n",
       "discount                  0.020835  0.003954                  0.009646   \n",
       "informational            -0.025175 -0.004524                 -0.013641   \n",
       "F                         0.004233  0.141276                 -0.026516   \n",
       "M                        -0.002928 -0.141298                  0.029776   \n",
       "O                        -0.005317  0.002335                 -0.013872   \n",
       "type_of_membership        0.006074  0.025883                  0.853554   \n",
       "\n",
       "                            income    reward  difficulty  duration  \\\n",
       "time                      0.004389  0.005320    0.023295  0.025480   \n",
       "age                       0.305096  0.000911    0.009898  0.006579   \n",
       "total_days_of_membership  0.019332  0.000656    0.009308  0.014806   \n",
       "income                    1.000000  0.014786    0.026340  0.015368   \n",
       "reward                    0.014786  1.000000    0.421174  0.043448   \n",
       "difficulty                0.026340  0.421174    1.000000  0.766816   \n",
       "duration                  0.015368  0.043448    0.766816  1.000000   \n",
       "std_income                1.000000  0.014786    0.026340  0.015368   \n",
       "std_age                   0.305096  0.000911    0.009898  0.006579   \n",
       "bogo                      0.006383  0.797030   -0.059661 -0.270651   \n",
       "discount                  0.007434 -0.392971    0.542964  0.731328   \n",
       "informational            -0.019001 -0.558321   -0.663374 -0.631379   \n",
       "F                         0.211365  0.010921    0.012035  0.004428   \n",
       "M                        -0.207787 -0.009648   -0.012036 -0.004923   \n",
       "O                        -0.011402 -0.005080    0.000196  0.002114   \n",
       "type_of_membership        0.056486  0.005879    0.010846  0.013319   \n",
       "\n",
       "                          std_income   std_age      bogo  discount  \\\n",
       "time                        0.004389  0.006074 -0.002493  0.020835   \n",
       "age                         0.305096  1.000000 -0.000658  0.003954   \n",
       "total_days_of_membership    0.019332  0.008127  0.000287  0.009646   \n",
       "income                      1.000000  0.305096  0.006383  0.007434   \n",
       "reward                      0.014786  0.000911  0.797030 -0.392971   \n",
       "difficulty                  0.026340  0.009898 -0.059661  0.542964   \n",
       "duration                    0.015368  0.006579 -0.270651  0.731328   \n",
       "std_income                  1.000000  0.305096  0.006383  0.007434   \n",
       "std_age                     0.305096  1.000000 -0.000658  0.003954   \n",
       "bogo                        0.006383 -0.000658  1.000000 -0.735665   \n",
       "discount                    0.007434  0.003954 -0.735665  1.000000   \n",
       "informational              -0.019001 -0.004524 -0.367355 -0.359736   \n",
       "F                           0.211365  0.141276  0.007820 -0.000822   \n",
       "M                          -0.207787 -0.141298 -0.007094  0.000738   \n",
       "O                          -0.011402  0.002335 -0.002871  0.000334   \n",
       "type_of_membership          0.056486  0.025883  0.004684  0.006708   \n",
       "\n",
       "                          informational         F         M         O  \\\n",
       "time                          -0.025175  0.004233 -0.002928 -0.005317   \n",
       "age                           -0.004524  0.141276 -0.141298  0.002335   \n",
       "total_days_of_membership      -0.013641 -0.026516  0.029776 -0.013872   \n",
       "income                        -0.019001  0.211365 -0.207787 -0.011402   \n",
       "reward                        -0.558321  0.010921 -0.009648 -0.005080   \n",
       "difficulty                    -0.663374  0.012035 -0.012036  0.000196   \n",
       "duration                      -0.631379  0.004428 -0.004923  0.002114   \n",
       "std_income                    -0.019001  0.211365 -0.207787 -0.011402   \n",
       "std_age                       -0.004524  0.141276 -0.141298  0.002335   \n",
       "bogo                          -0.367355  0.007820 -0.007094 -0.002871   \n",
       "discount                      -0.359736 -0.000822  0.000738  0.000334   \n",
       "informational                  1.000000 -0.009643  0.008759  0.003496   \n",
       "F                             -0.009643  1.000000 -0.970510 -0.105764   \n",
       "M                              0.008759 -0.970510  1.000000 -0.137065   \n",
       "O                              0.003496 -0.105764 -0.137065  1.000000   \n",
       "type_of_membership            -0.015662  0.015577 -0.011630 -0.016035   \n",
       "\n",
       "                          type_of_membership  \n",
       "time                                0.006074  \n",
       "age                                 0.025883  \n",
       "total_days_of_membership            0.853554  \n",
       "income                              0.056486  \n",
       "reward                              0.005879  \n",
       "difficulty                          0.010846  \n",
       "duration                            0.013319  \n",
       "std_income                          0.056486  \n",
       "std_age                             0.025883  \n",
       "bogo                                0.004684  \n",
       "discount                            0.006708  \n",
       "informational                      -0.015662  \n",
       "F                                   0.015577  \n",
       "M                                  -0.011630  \n",
       "O                                  -0.016035  \n",
       "type_of_membership                  1.000000  "
      ]
     },
     "execution_count": 43,
     "metadata": {},
     "output_type": "execute_result"
    }
   ],
   "source": [
    "training_df.corr()"
   ]
  },
  {
   "cell_type": "code",
   "execution_count": 44,
   "metadata": {},
   "outputs": [
    {
     "data": {
      "text/plain": [
       "array([[<matplotlib.axes._subplots.AxesSubplot object at 0x11e9a0b90>,\n",
       "        <matplotlib.axes._subplots.AxesSubplot object at 0x11e9a62d0>,\n",
       "        <matplotlib.axes._subplots.AxesSubplot object at 0x11e7b1610>,\n",
       "        <matplotlib.axes._subplots.AxesSubplot object at 0x11e7e0150>,\n",
       "        <matplotlib.axes._subplots.AxesSubplot object at 0x11e572ed0>,\n",
       "        <matplotlib.axes._subplots.AxesSubplot object at 0x11e59a990>,\n",
       "        <matplotlib.axes._subplots.AxesSubplot object at 0x11e378750>,\n",
       "        <matplotlib.axes._subplots.AxesSubplot object at 0x11e399210>,\n",
       "        <matplotlib.axes._subplots.AxesSubplot object at 0x11e39e590>,\n",
       "        <matplotlib.axes._subplots.AxesSubplot object at 0x10ac5c410>,\n",
       "        <matplotlib.axes._subplots.AxesSubplot object at 0x11d7ea810>,\n",
       "        <matplotlib.axes._subplots.AxesSubplot object at 0x11d7fd2d0>,\n",
       "        <matplotlib.axes._subplots.AxesSubplot object at 0x1239b2f90>],\n",
       "       [<matplotlib.axes._subplots.AxesSubplot object at 0x1239ceb10>,\n",
       "        <matplotlib.axes._subplots.AxesSubplot object at 0x1239ea8d0>,\n",
       "        <matplotlib.axes._subplots.AxesSubplot object at 0x123a07390>,\n",
       "        <matplotlib.axes._subplots.AxesSubplot object at 0x123a23150>,\n",
       "        <matplotlib.axes._subplots.AxesSubplot object at 0x123a3ebd0>,\n",
       "        <matplotlib.axes._subplots.AxesSubplot object at 0x123a5a990>,\n",
       "        <matplotlib.axes._subplots.AxesSubplot object at 0x123a76450>,\n",
       "        <matplotlib.axes._subplots.AxesSubplot object at 0x123a92210>,\n",
       "        <matplotlib.axes._subplots.AxesSubplot object at 0x123aaef90>,\n",
       "        <matplotlib.axes._subplots.AxesSubplot object at 0x123ac7a50>,\n",
       "        <matplotlib.axes._subplots.AxesSubplot object at 0x123ae3510>,\n",
       "        <matplotlib.axes._subplots.AxesSubplot object at 0x123b012d0>,\n",
       "        <matplotlib.axes._subplots.AxesSubplot object at 0x123b1ad50>],\n",
       "       [<matplotlib.axes._subplots.AxesSubplot object at 0x123b37b10>,\n",
       "        <matplotlib.axes._subplots.AxesSubplot object at 0x123b535d0>,\n",
       "        <matplotlib.axes._subplots.AxesSubplot object at 0x123b6f390>,\n",
       "        <matplotlib.axes._subplots.AxesSubplot object at 0x123b88e10>,\n",
       "        <matplotlib.axes._subplots.AxesSubplot object at 0x123ba4d10>,\n",
       "        <matplotlib.axes._subplots.AxesSubplot object at 0x123bc0a10>,\n",
       "        <matplotlib.axes._subplots.AxesSubplot object at 0x123bdb990>,\n",
       "        <matplotlib.axes._subplots.AxesSubplot object at 0x123bf7590>,\n",
       "        <matplotlib.axes._subplots.AxesSubplot object at 0x123c14590>,\n",
       "        <matplotlib.axes._subplots.AxesSubplot object at 0x123cda210>,\n",
       "        <matplotlib.axes._subplots.AxesSubplot object at 0x123cf2f90>,\n",
       "        <matplotlib.axes._subplots.AxesSubplot object at 0x123d11fd0>,\n",
       "        <matplotlib.axes._subplots.AxesSubplot object at 0x123d29c50>],\n",
       "       [<matplotlib.axes._subplots.AxesSubplot object at 0x123d459d0>,\n",
       "        <matplotlib.axes._subplots.AxesSubplot object at 0x123d60890>,\n",
       "        <matplotlib.axes._subplots.AxesSubplot object at 0x123d7b550>,\n",
       "        <matplotlib.axes._subplots.AxesSubplot object at 0x123d98610>,\n",
       "        <matplotlib.axes._subplots.AxesSubplot object at 0x123db3310>,\n",
       "        <matplotlib.axes._subplots.AxesSubplot object at 0x11ec3a210>,\n",
       "        <matplotlib.axes._subplots.AxesSubplot object at 0x11ec52e50>,\n",
       "        <matplotlib.axes._subplots.AxesSubplot object at 0x11ec6fe50>,\n",
       "        <matplotlib.axes._subplots.AxesSubplot object at 0x11d28f9d0>,\n",
       "        <matplotlib.axes._subplots.AxesSubplot object at 0x11d2aa9d0>,\n",
       "        <matplotlib.axes._subplots.AxesSubplot object at 0x11d2c6690>,\n",
       "        <matplotlib.axes._subplots.AxesSubplot object at 0x11d2e1550>,\n",
       "        <matplotlib.axes._subplots.AxesSubplot object at 0x11d2fd190>],\n",
       "       [<matplotlib.axes._subplots.AxesSubplot object at 0x11d318110>,\n",
       "        <matplotlib.axes._subplots.AxesSubplot object at 0x11d336f90>,\n",
       "        <matplotlib.axes._subplots.AxesSubplot object at 0x11d34dcd0>,\n",
       "        <matplotlib.axes._subplots.AxesSubplot object at 0x11d369a50>,\n",
       "        <matplotlib.axes._subplots.AxesSubplot object at 0x11d3859d0>,\n",
       "        <matplotlib.axes._subplots.AxesSubplot object at 0x11d3a1590>,\n",
       "        <matplotlib.axes._subplots.AxesSubplot object at 0x11d3bd5d0>,\n",
       "        <matplotlib.axes._subplots.AxesSubplot object at 0x11d3d8310>,\n",
       "        <matplotlib.axes._subplots.AxesSubplot object at 0x11d3f3390>,\n",
       "        <matplotlib.axes._subplots.AxesSubplot object at 0x11d40f050>,\n",
       "        <matplotlib.axes._subplots.AxesSubplot object at 0x11d42b1d0>,\n",
       "        <matplotlib.axes._subplots.AxesSubplot object at 0x11d447050>,\n",
       "        <matplotlib.axes._subplots.AxesSubplot object at 0x11d45fe50>],\n",
       "       [<matplotlib.axes._subplots.AxesSubplot object at 0x11d479e10>,\n",
       "        <matplotlib.axes._subplots.AxesSubplot object at 0x11d497d50>,\n",
       "        <matplotlib.axes._subplots.AxesSubplot object at 0x11d4b2ad0>,\n",
       "        <matplotlib.axes._subplots.AxesSubplot object at 0x11d4cdbd0>,\n",
       "        <matplotlib.axes._subplots.AxesSubplot object at 0x11d4e8b50>,\n",
       "        <matplotlib.axes._subplots.AxesSubplot object at 0x11d504b10>,\n",
       "        <matplotlib.axes._subplots.AxesSubplot object at 0x11d51f890>,\n",
       "        <matplotlib.axes._subplots.AxesSubplot object at 0x11d53a850>,\n",
       "        <matplotlib.axes._subplots.AxesSubplot object at 0x11d556650>,\n",
       "        <matplotlib.axes._subplots.AxesSubplot object at 0x11d573690>,\n",
       "        <matplotlib.axes._subplots.AxesSubplot object at 0x11d58e390>,\n",
       "        <matplotlib.axes._subplots.AxesSubplot object at 0x11d5a94d0>,\n",
       "        <matplotlib.axes._subplots.AxesSubplot object at 0x11d5c4250>],\n",
       "       [<matplotlib.axes._subplots.AxesSubplot object at 0x11d5e0210>,\n",
       "        <matplotlib.axes._subplots.AxesSubplot object at 0x11d5fb090>,\n",
       "        <matplotlib.axes._subplots.AxesSubplot object at 0x11d617110>,\n",
       "        <matplotlib.axes._subplots.AxesSubplot object at 0x11d62fd90>,\n",
       "        <matplotlib.axes._subplots.AxesSubplot object at 0x11d921f10>,\n",
       "        <matplotlib.axes._subplots.AxesSubplot object at 0x11d93ccd0>,\n",
       "        <matplotlib.axes._subplots.AxesSubplot object at 0x11d95be90>,\n",
       "        <matplotlib.axes._subplots.AxesSubplot object at 0x11d976fd0>,\n",
       "        <matplotlib.axes._subplots.AxesSubplot object at 0x11d990e50>,\n",
       "        <matplotlib.axes._subplots.AxesSubplot object at 0x11d9a9b10>,\n",
       "        <matplotlib.axes._subplots.AxesSubplot object at 0x11d9c5bd0>,\n",
       "        <matplotlib.axes._subplots.AxesSubplot object at 0x11d9e0910>,\n",
       "        <matplotlib.axes._subplots.AxesSubplot object at 0x11d9fb910>],\n",
       "       [<matplotlib.axes._subplots.AxesSubplot object at 0x11da17790>,\n",
       "        <matplotlib.axes._subplots.AxesSubplot object at 0x11da32850>,\n",
       "        <matplotlib.axes._subplots.AxesSubplot object at 0x11da4d590>,\n",
       "        <matplotlib.axes._subplots.AxesSubplot object at 0x11da6a710>,\n",
       "        <matplotlib.axes._subplots.AxesSubplot object at 0x11da855d0>,\n",
       "        <matplotlib.axes._subplots.AxesSubplot object at 0x11daa0710>,\n",
       "        <matplotlib.axes._subplots.AxesSubplot object at 0x11dabb510>,\n",
       "        <matplotlib.axes._subplots.AxesSubplot object at 0x11dad76d0>,\n",
       "        <matplotlib.axes._subplots.AxesSubplot object at 0x11daf23d0>,\n",
       "        <matplotlib.axes._subplots.AxesSubplot object at 0x11db0d490>,\n",
       "        <matplotlib.axes._subplots.AxesSubplot object at 0x11db29250>,\n",
       "        <matplotlib.axes._subplots.AxesSubplot object at 0x11db443d0>,\n",
       "        <matplotlib.axes._subplots.AxesSubplot object at 0x11db60250>],\n",
       "       [<matplotlib.axes._subplots.AxesSubplot object at 0x11db7c390>,\n",
       "        <matplotlib.axes._subplots.AxesSubplot object at 0x11db96050>,\n",
       "        <matplotlib.axes._subplots.AxesSubplot object at 0x11dbaef50>,\n",
       "        <matplotlib.axes._subplots.AxesSubplot object at 0x11dbcbdd0>,\n",
       "        <matplotlib.axes._subplots.AxesSubplot object at 0x11dbe5f10>,\n",
       "        <matplotlib.axes._subplots.AxesSubplot object at 0x11dbffd10>,\n",
       "        <matplotlib.axes._subplots.AxesSubplot object at 0x11dc1ef10>,\n",
       "        <matplotlib.axes._subplots.AxesSubplot object at 0x11dc38fd0>,\n",
       "        <matplotlib.axes._subplots.AxesSubplot object at 0x11dc54f10>,\n",
       "        <matplotlib.axes._subplots.AxesSubplot object at 0x11dc6dc50>,\n",
       "        <matplotlib.axes._subplots.AxesSubplot object at 0x11dc8be90>,\n",
       "        <matplotlib.axes._subplots.AxesSubplot object at 0x11dca7fd0>,\n",
       "        <matplotlib.axes._subplots.AxesSubplot object at 0x11dcbfcd0>],\n",
       "       [<matplotlib.axes._subplots.AxesSubplot object at 0x11dcda950>,\n",
       "        <matplotlib.axes._subplots.AxesSubplot object at 0x11dcf5b50>,\n",
       "        <matplotlib.axes._subplots.AxesSubplot object at 0x11dd108d0>,\n",
       "        <matplotlib.axes._subplots.AxesSubplot object at 0x11dd2bb90>,\n",
       "        <matplotlib.axes._subplots.AxesSubplot object at 0x11dd47890>,\n",
       "        <matplotlib.axes._subplots.AxesSubplot object at 0x11dd62910>,\n",
       "        <matplotlib.axes._subplots.AxesSubplot object at 0x11dd7d750>,\n",
       "        <matplotlib.axes._subplots.AxesSubplot object at 0x11dd989d0>,\n",
       "        <matplotlib.axes._subplots.AxesSubplot object at 0x11ddb3750>,\n",
       "        <matplotlib.axes._subplots.AxesSubplot object at 0x11ddce810>,\n",
       "        <matplotlib.axes._subplots.AxesSubplot object at 0x11ddea690>,\n",
       "        <matplotlib.axes._subplots.AxesSubplot object at 0x11de04790>,\n",
       "        <matplotlib.axes._subplots.AxesSubplot object at 0x11de20510>],\n",
       "       [<matplotlib.axes._subplots.AxesSubplot object at 0x11de3b590>,\n",
       "        <matplotlib.axes._subplots.AxesSubplot object at 0x11de56490>,\n",
       "        <matplotlib.axes._subplots.AxesSubplot object at 0x11de715d0>,\n",
       "        <matplotlib.axes._subplots.AxesSubplot object at 0x11de8c450>,\n",
       "        <matplotlib.axes._subplots.AxesSubplot object at 0x11dea9550>,\n",
       "        <matplotlib.axes._subplots.AxesSubplot object at 0x11dec3350>,\n",
       "        <matplotlib.axes._subplots.AxesSubplot object at 0x11dede4d0>,\n",
       "        <matplotlib.axes._subplots.AxesSubplot object at 0x11defa410>,\n",
       "        <matplotlib.axes._subplots.AxesSubplot object at 0x11df14590>,\n",
       "        <matplotlib.axes._subplots.AxesSubplot object at 0x11df2f3d0>,\n",
       "        <matplotlib.axes._subplots.AxesSubplot object at 0x11df4a550>,\n",
       "        <matplotlib.axes._subplots.AxesSubplot object at 0x11df65310>,\n",
       "        <matplotlib.axes._subplots.AxesSubplot object at 0x11df81490>],\n",
       "       [<matplotlib.axes._subplots.AxesSubplot object at 0x11df9b2d0>,\n",
       "        <matplotlib.axes._subplots.AxesSubplot object at 0x11dfb8390>,\n",
       "        <matplotlib.axes._subplots.AxesSubplot object at 0x11dfd21d0>,\n",
       "        <matplotlib.axes._subplots.AxesSubplot object at 0x11dfee290>,\n",
       "        <matplotlib.axes._subplots.AxesSubplot object at 0x11e0081d0>,\n",
       "        <matplotlib.axes._subplots.AxesSubplot object at 0x11e023290>,\n",
       "        <matplotlib.axes._subplots.AxesSubplot object at 0x11e03e090>,\n",
       "        <matplotlib.axes._subplots.AxesSubplot object at 0x11e0592d0>,\n",
       "        <matplotlib.axes._subplots.AxesSubplot object at 0x11e074090>,\n",
       "        <matplotlib.axes._subplots.AxesSubplot object at 0x11e08e1d0>,\n",
       "        <matplotlib.axes._subplots.AxesSubplot object at 0x11e0e30d0>,\n",
       "        <matplotlib.axes._subplots.AxesSubplot object at 0x11e0fd250>,\n",
       "        <matplotlib.axes._subplots.AxesSubplot object at 0x11e118190>],\n",
       "       [<matplotlib.axes._subplots.AxesSubplot object at 0x11e134510>,\n",
       "        <matplotlib.axes._subplots.AxesSubplot object at 0x11e14e3d0>,\n",
       "        <matplotlib.axes._subplots.AxesSubplot object at 0x11e16a510>,\n",
       "        <matplotlib.axes._subplots.AxesSubplot object at 0x11e184390>,\n",
       "        <matplotlib.axes._subplots.AxesSubplot object at 0x11e1a0510>,\n",
       "        <matplotlib.axes._subplots.AxesSubplot object at 0x11e1ba2d0>,\n",
       "        <matplotlib.axes._subplots.AxesSubplot object at 0x11e1d44d0>,\n",
       "        <matplotlib.axes._subplots.AxesSubplot object at 0x11e1f01d0>,\n",
       "        <matplotlib.axes._subplots.AxesSubplot object at 0x11e20b410>,\n",
       "        <matplotlib.axes._subplots.AxesSubplot object at 0x11e226310>,\n",
       "        <matplotlib.axes._subplots.AxesSubplot object at 0x11e241450>,\n",
       "        <matplotlib.axes._subplots.AxesSubplot object at 0x11e25c350>,\n",
       "        <matplotlib.axes._subplots.AxesSubplot object at 0x11e277550>]],\n",
       "      dtype=object)"
      ]
     },
     "execution_count": 44,
     "metadata": {},
     "output_type": "execute_result"
    },
    {
     "data": {
      "image/png": "[encoded data removed]",
      "text/plain": [
       "<Figure size 720x504 with 169 Axes>"
      ]
     },
     "metadata": {
      "needs_background": "light"
     },
     "output_type": "display_data"
    }
   ],
   "source": [
    "from pandas.plotting import scatter_matrix\n",
    "\n",
    "attributes = ['std_age','total_days_of_membership','std_income','reward','difficulty',\n",
    "              'duration','bogo','discount','informational','F','M','O','type_of_membership']\n",
    "\n",
    "scatter_matrix(training_df[attributes],figsize=(10,7) )"
   ]
  },
  {
   "cell_type": "code",
   "execution_count": null,
   "metadata": {},
   "outputs": [],
   "source": [
    "from sklearn.model_selection import train_test_split\n",
    "\n",
    "X = training_df.copy()\n",
    "X = X.drop(columns=['person','event','offer_id','offer_type','gender','age','total_days_of_membership','completed'])\n",
    "Y = training_df['completed']\n",
    "X_train, X_test, y_train, y_test = train_test_split(X, Y, random_state=21)"
   ]
  },
  {
   "cell_type": "markdown",
   "metadata": {},
   "source": [
    "#### Finally we will save the training and test dataset to be used in the training notebook"
   ]
  },
  {
   "cell_type": "code",
   "execution_count": 882,
   "metadata": {},
   "outputs": [],
   "source": [
    "X_train.to_csv('data/x_train.csv',index=False) \n",
    "X_test.to_csv('data/x_test.csv',index=False) \n",
    "y_train.to_csv('data/y_train.csv',index=False) \n",
    "y_test.to_csv('data/y_test.csv',index=False) "
   ]
  },
  {
   "cell_type": "code",
   "execution_count": 883,
   "metadata": {},
   "outputs": [
    {
     "data": {
      "text/plain": [
       "(49875, 14)"
      ]
     },
     "execution_count": 883,
     "metadata": {},
     "output_type": "execute_result"
    }
   ],
   "source": [
    "X_train.shape"
   ]
  },
  {
   "cell_type": "code",
   "execution_count": null,
   "metadata": {},
   "outputs": [],
   "source": []
  }
 ],
 "metadata": {
  "kernelspec": {
   "display_name": "Python 3",
   "language": "python",
   "name": "python3"
  },
  "language_info": {
   "codemirror_mode": {
    "name": "ipython",
    "version": 3
   },
   "file_extension": ".py",
   "mimetype": "text/x-python",
   "name": "python",
   "nbconvert_exporter": "python",
   "pygments_lexer": "ipython3",
   "version": "3.7.7"
  }
 },
 "nbformat": 4,
 "nbformat_minor": 2
}
